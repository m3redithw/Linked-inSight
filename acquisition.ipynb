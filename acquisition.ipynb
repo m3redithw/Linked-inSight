{
 "cells": [
  {
   "cell_type": "code",
   "execution_count": 5,
   "id": "9766d556",
   "metadata": {
    "pycharm": {
     "name": "#%%\n"
    }
   },
   "outputs": [],
   "source": [
    "from imports import *\n",
    "from bs4 import BeautifulSoup\n",
    "from selenium import webdriver\n",
    "from selenium.webdriver.common.keys import Keys\n",
    "from selenium.webdriver.common.by import By\n",
    "from selenium.webdriver.support.wait import WebDriverWait\n",
    "from selenium.webdriver.support import expected_conditions as EC\n",
    "import time\n",
    "import numpy as np"
   ]
  },
  {
   "cell_type": "code",
   "execution_count": 4,
   "id": "87fdb6e8",
   "metadata": {
    "pycharm": {
     "name": "#%%\n"
    }
   },
   "outputs": [
    {
     "ename": "ModuleNotFoundError",
     "evalue": "No module named 'webdriver_manager'",
     "output_type": "error",
     "traceback": [
      "\u001B[0;31m---------------------------------------------------------------------------\u001B[0m",
      "\u001B[0;31mModuleNotFoundError\u001B[0m                       Traceback (most recent call last)",
      "\u001B[0;32m<ipython-input-4-6cae888399d0>\u001B[0m in \u001B[0;36m<module>\u001B[0;34m\u001B[0m\n\u001B[0;32m----> 1\u001B[0;31m \u001B[0;32mfrom\u001B[0m \u001B[0mwebdriver_manager\u001B[0m\u001B[0;34m.\u001B[0m\u001B[0mchrome\u001B[0m \u001B[0;32mimport\u001B[0m \u001B[0mChromeDriverManager\u001B[0m\u001B[0;34m\u001B[0m\u001B[0;34m\u001B[0m\u001B[0m\n\u001B[0m\u001B[1;32m      2\u001B[0m \u001B[0;34m\u001B[0m\u001B[0m\n\u001B[1;32m      3\u001B[0m \u001B[0mdriver\u001B[0m \u001B[0;34m=\u001B[0m \u001B[0mwebdriver\u001B[0m\u001B[0;34m.\u001B[0m\u001B[0mChrome\u001B[0m\u001B[0;34m(\u001B[0m\u001B[0mChromeDriverManager\u001B[0m\u001B[0;34m(\u001B[0m\u001B[0;34m)\u001B[0m\u001B[0;34m.\u001B[0m\u001B[0minstall\u001B[0m\u001B[0;34m(\u001B[0m\u001B[0;34m)\u001B[0m\u001B[0;34m)\u001B[0m\u001B[0;34m\u001B[0m\u001B[0;34m\u001B[0m\u001B[0m\n",
      "\u001B[0;31mModuleNotFoundError\u001B[0m: No module named 'webdriver_manager'"
     ]
    }
   ],
   "source": [
    "# Code to install webdriver if it's not installed\n",
    "from webdriver_manager.chrome import ChromeDriverManager\n",
    "driver = webdriver.Chrome(ChromeDriverManager().install())"
   ]
  },
  {
   "cell_type": "code",
   "execution_count": 157,
   "id": "33051ed8",
   "metadata": {
    "pycharm": {
     "name": "#%%\n"
    }
   },
   "outputs": [],
   "source": [
    "# Log into linkedin\n",
    "def login(driver, password):\n",
    "    url =  'https://www.linkedin.com/checkpoint/rm/sign-in-another-account?fromSignIn=true&trk=guest_homepage-basic_nav-header-signin'\n",
    "    wait = WebDriverWait(driver, 10)\n",
    "    driver.get(url)\n",
    "  \n",
    "    driver.find_element(\"xpath\",'/html/body/div/main/div[2]/div[1]/form/div[1]/input').send_keys('wang.meredith09@gmail.com')\n",
    "    driver.find_element(\"xpath\",'/html/body/div/main/div[2]/div[1]/form/div[2]/input').send_keys(password)\n",
    "    driver.find_element(\"xpath\",'/html/body/div/main/div[2]/div[1]/form/div[3]').click()\n",
    "\n",
    "# Redirects driver to the query link\n",
    "def search(driver):\n",
    "    time.sleep(5)\n",
    "    driver.get(\"https://www.linkedin.com/jobs/search/?keywords=data%20science\")\n",
    "\n",
    "# Grab the number of results that were fetched\n",
    "def get_n_results(driver):\n",
    "    time.sleep(10)\n",
    "    results_div = driver.find_element(\"xpath\",'/html/body/div[4]/div[3]/div[4]/div/div/main/div/section[1]/header/div[1]/small')\n",
    "    n_string = results_div.text\n",
    "    n = int(n_string.split()[0].replace(',',\"\"))\n",
    "    return n \n",
    "\n",
    "# Finds job ul div\n",
    "def get_jobs(driver):\n",
    "    ul_div = driver.find_element(\"xpath\",'/html/body/div[4]/div[3]/div[4]/div/div/main/div/section[1]/div/ul')\n",
    "    return ul_div\n",
    "\n",
    "\n",
    "# Scrolls to properly load page\n",
    "def scroll_down(driver):\n",
    "    for i in np.linspace(0,1,10):\n",
    "        time.sleep(2)\n",
    "        # Excute JavaScript\n",
    "        # driver.execute_script(\"window.scrollTo(0,document.body.scrollHeight)\")\n",
    "        driver.execute_script(f\"window.scrollTo(0,document.body.scrollHeight*{i})\")\n",
    "\n",
    "# Getting each job's url, role name, company, and location\n",
    "def get_job_urls(jobs,driver,job_urls = {}):\n",
    "    i = 1\n",
    "    while True: \n",
    "        try:\n",
    "\n",
    "            WebDriverWait(driver, 1).until(EC.presence_of_element_located((By.XPATH,f'/html/body/div[4]/div[3]/div[4]/div/div/main/div/section[1]/div/ul/li[{i}]')))\n",
    "            url = jobs.find_element(\"xpath\",f'/html/body/div[4]/div[3]/div[4]/div/div/main/div/section[1]/div/ul/li[{i}]/div/div[1]/div[1]/div[2]/div[1]/a').get_attribute(\"href\")\n",
    "            role = jobs.find_element(\"xpath\",f'/html/body/div[4]/div[3]/div[4]/div/div/main/div/section[1]/div/ul/li[{i}]/div/div[1]/div[1]/div[2]/div[1]/a').text\n",
    "            company = jobs.find_element(\"xpath\",f'/html/body/div[4]/div[3]/div[4]/div/div/main/div/section[1]/div/ul/li[{i}]/div/div[1]/div[1]/div[2]/div[2]/a').text\n",
    "            location = driver.find_element(\"xpath\",f'/html/body/div[4]/div[3]/div[4]/div/div/main/div/section[1]/div/ul/li[{i}]/div/div[1]/div[1]/div[2]/div[3]/ul/li').text\n",
    "            job_urls.update({url:{'company':company,'location':location,'role':role}})\n",
    "            i+=1\n",
    "        except:\n",
    "            return job_urls\n",
    "\n",
    "# Click on the button to go to the next page\n",
    "def load_next_page(driver):\n",
    "    curr= driver.find_element(\"xpath\",'//*[@aria-current=\"true\"]').text\n",
    "    next = driver.find_element(\"xpath\",f'//*[@aria-label=\"Page {int(curr)+1}\"]')\n",
    "    next.click()\n",
    "\n",
    "# Use the urls to further get job's description\n",
    "def get_description(driver,job_dict):\n",
    "    good = []\n",
    "    fail = []\n",
    "  #Iterate through the url list to scrape the descriptions\n",
    "    for url in list(job_dict.keys()):\n",
    "        if url not in good:\n",
    "            try:\n",
    "                driver.get(url)\n",
    "                time.sleep(3)\n",
    "                if driver.current_url != url:\n",
    "                    print(f'failed at {url}')\n",
    "                    #remove broken urls\n",
    "                    job_dict.pop(url)\n",
    "                #scrape\n",
    "                driver.find_element(\"xpath\",'//*[@aria-label=\"Click to see more description\"]').click()\n",
    "                WebDriverWait(driver, 1).until(EC.presence_of_element_located((By.XPATH,'/html/body/div[5]/div[3]/div/div[1]/div[1]/div/div[2]/article/div/div[1]')))\n",
    "                description = driver.find_element(\"xpath\",'/html/body/div[5]/div[3]/div/div[1]/div[1]/div/div[2]/article/div/div[1]').text\n",
    "                education = driver.find_element(\"xpath\", '/html/body/div[5]/div[3]/div/div[1]/div[1]/div/div[6]/div/div[1]/div[3]/div[2]/ul').text\n",
    "\n",
    "                # time.sleep(3)\n",
    "                job_dict.get(url).update({\"description\":description})\n",
    "                job_dict.get(url).update({\"education\": education})\n",
    "                time.sleep(6)\n",
    "                good.append(url)\n",
    "\n",
    "            except:\n",
    "                #keep going if there is a random error in which a div did not load properly but check where we failed\n",
    "                print(f\"fail {job_dict.get(url)}\")\n",
    "                fail.append(url)\n",
    "    return job_dict\n",
    "\n",
    "# Get job's applicants' most have skills in the LinkedIn premium insight\n",
    "# It will return the skills depending on if the user is LinkedIn premium\n",
    "# This function is not used in the final main function\n",
    "def get_skills(driver,job_dict):\n",
    "    good = []\n",
    "    fail = []\n",
    "    # Iterate through the url list to scrape the descriptions\n",
    "    for url in list(job_dict.keys()):\n",
    "        if url not in good:\n",
    "            try:\n",
    "                driver.get(url)\n",
    "                time.sleep(2)\n",
    "                if driver.current_url != url:\n",
    "                    print(f'failed at {url}')\n",
    "                    #remove broken urls\n",
    "                    job_dict.pop(url)\n",
    "                # Scrape\n",
    "                skill_list = driver.find_element(\"xpath\", '/html/body/div[5]/div[3]/div/div[1]/div[1]/div/div[6]/div/div[1]/div[2]/div[2]/ul')\n",
    "                skills = skill_list.find_elements(By.TAG_NAME, \"li\")\n",
    "                # if len(skills) > 0:\n",
    "                # i = 1\n",
    "                skill = []\n",
    "                # while True:\n",
    "                #     try:\n",
    "                #         # WebDriverWait(driver, 1).until(EC.presence_of_element_located((By.XPATH,f'/html/body/div[5]/div[3]/div/div[1]/div[1]/div/div[6]/div/div[1]/div[2]/div[2]/ul/li[{i}]')))\n",
    "                #         skillname = driver.find_element(\"xpath\",f'/html/body/div[5]/div[3]/div/div[1]/div[1]/div/div[6]/div/div[1]/div[2]/div[2]/ul/li[{i}]/p').text\n",
    "                #         job_dict.get(url).update({\"skills\":skillname})\n",
    "                #         i+=1\n",
    "                #         good.append(url)\n",
    "                #     except:\n",
    "                #         return job_dict\n",
    "                for i in skills:\n",
    "                    skill = i.find_elements(\"xpath\", f'//*[@id=\"ember95\"]/div/div[1]/div[2]/div[2]/ul/li[{i}]/p').text\n",
    "                    job_dict.get(url).update({\"skills\":skill})\n",
    "                    good.append(url)\n",
    "                return job_dict\n",
    "            except:\n",
    "                #keep going if there is a random error in which a div did not load properly but check where we failed\n",
    "                print(f\"fail{job_dict.get(url)}\")\n",
    "                fail.append(url)"
   ]
  },
  {
   "cell_type": "code",
   "execution_count": 158,
   "id": "ab01a8c7",
   "metadata": {
    "pycharm": {
     "name": "#%%\n"
    }
   },
   "outputs": [],
   "source": [
    "# Putting all the steps above together\n",
    "def main(driver,password):\n",
    "    login(driver, password)\n",
    "    search(driver)\n",
    "    n = get_n_results(driver)\n",
    "    job_dict = {}\n",
    "    #iterate through the amount of pages given\n",
    "    for i in range(39):\n",
    "        jobs = get_jobs(driver)\n",
    "        scroll_down(driver)\n",
    "        get_job_urls(jobs,driver,job_urls = job_dict)\n",
    "        time.sleep(1)\n",
    "        load_next_page(driver)\n",
    "    get_description(driver,job_dict)\n",
    "    df = pd.DataFrame(job_dict)\n",
    "    # return get_description(driver,job_dict,good)\n",
    "    return df"
   ]
  },
  {
   "cell_type": "code",
   "execution_count": 109,
   "outputs": [
    {
     "data": {
      "text/plain": "str"
     },
     "execution_count": 109,
     "metadata": {},
     "output_type": "execute_result"
    }
   ],
   "source": [
    "# Getting password\n",
    "secret_file = open(\"env.txt\", \"r\")\n",
    "password = secret_file.read()\n",
    "type(password)"
   ],
   "metadata": {
    "collapsed": false,
    "pycharm": {
     "name": "#%%\n"
    }
   }
  },
  {
   "cell_type": "code",
   "execution_count": 159,
   "id": "bf6ec68b",
   "metadata": {
    "pycharm": {
     "name": "#%%\n"
    }
   },
   "outputs": [
    {
     "name": "stdout",
     "output_type": "stream",
     "text": [
      "fail {'company': 'Gallagher Bassett', 'location': 'Rolling Meadows, IL', 'role': 'Data Science'}\n",
      "fail {'company': 'Procter & Gamble', 'location': 'Mason, OH', 'role': 'R&D Data Science'}\n",
      "fail {'company': 'Bankrate', 'location': 'New York City Metropolitan Area', 'role': 'Product Manager, Data Science | Bankrate'}\n",
      "fail {'company': 'Expedia Group', 'location': 'Austin, TX', 'role': 'Data Scientist III, Product Analytics'}\n",
      "fail {'company': 'SoftStandard Solutions', 'location': 'United States', 'role': 'Data science'}\n",
      "fail {'company': 'OMP', 'location': 'Atlanta, GA', 'role': 'Data Science Consultant'}\n",
      "fail {'company': 'Booz Allen Hamilton', 'location': 'Arlington, VA', 'role': 'Data Scientist, Mid'}\n",
      "fail {'company': 'Booz Allen Hamilton', 'location': 'Arlington, VA', 'role': 'Data Scientist, Mid'}\n",
      "fail {'company': 'Booz Allen Hamilton', 'location': 'Arlington, VA', 'role': 'Data Scientist, Mid'}\n",
      "fail {'company': 'Signet Jewelers', 'location': 'United States', 'role': 'Data Scientist'}\n",
      "fail {'company': 'Databricks', 'location': 'United States', 'role': 'Developer Advocate for Data Science, Machine Learning and Spark'}\n",
      "fail {'company': 'Experis', 'location': 'Sacramento, CA', 'role': 'Product Manager of Data Science'}\n",
      "fail {'company': 'Tesla', 'location': 'Fremont, CA', 'role': 'Data Engineer – Cathode Production'}\n",
      "fail {'company': 'Etsy', 'location': 'Brooklyn, NY', 'role': 'Senior Data Scientist, Member Services'}\n",
      "fail {'company': 'Apple', 'location': 'Cupertino, CA', 'role': 'Data Science & Engineering Manager - Simulation and Offline Experimentation'}\n",
      "fail {'company': 'IBM', 'location': 'Atlanta, GA', 'role': 'Data Science and Governance Technical Specialist (FL, GA, NC, SC)'}\n",
      "fail {'company': 'Elastic', 'location': 'Boise, ID', 'role': 'Analytics Engineer'}\n",
      "fail {'company': 'Elastic', 'location': 'Cincinnati, OH', 'role': 'Analytics Engineer'}\n",
      "fail {'company': 'IBM', 'location': 'Raleigh, NC', 'role': 'Data Science and Governance Technical Specialist (FL, GA, NC, SC)'}\n",
      "fail {'company': 'Elastic', 'location': 'Washington, United States', 'role': 'Analytics Engineer'}\n",
      "fail {'company': 'Berkshire Hathaway Homestate Companies', 'location': 'Sacramento, CA', 'role': 'Data Scientist'}\n",
      "fail {'company': 'Johnson & Johnson', 'location': 'Horsham, PA', 'role': 'Data Science Manager'}\n",
      "fail {'company': 'TikTok', 'location': 'Los Angeles Metropolitan Area', 'role': 'Data Science Lead - Product Analytics'}\n",
      "fail {'company': 'TikTok', 'location': 'Mountain View, CA', 'role': 'Data Science Lead - Product Analytics'}\n",
      "fail {'company': 'Dassault Systèmes', 'location': 'New York, NY', 'role': 'Data Science Consultant'}\n",
      "fail {'company': 'Tyson Foods', 'location': 'Springdale, AR', 'role': 'Data Science'}\n",
      "fail {'company': 'Sony Pictures Entertainment', 'location': 'Culver City, CA', 'role': 'Data Science Solution Architect'}\n",
      "fail {'company': 'MAPFRE', 'location': 'Webster, MA', 'role': 'Data Science Lead (Hybrid - Boston or Webster)'}\n",
      "fail {'company': 'Data Society', 'location': 'Chicago, IL', 'role': 'Data Science Instructor (On-site) - Python/SQL'}\n",
      "fail {'company': 'Northrop Grumman', 'location': 'Linthicum, MD', 'role': 'Data Scientist'}\n",
      "fail {'company': 'Traive', 'location': 'United States', 'role': 'Senior Machine Learning Engineer / Data Science Tech Lead'}\n",
      "fail {'company': 'Amazon', 'location': 'Seattle, WA', 'role': 'Data Science Manager, Demand Science'}\n",
      "fail {'company': 'Discover Financial Services', 'location': 'Illinois, United States', 'role': 'Principal Data Science'}\n",
      "fail {'company': 'Amazon', 'location': 'Seattle, WA', 'role': 'Software Development Engineer - Personalization, Recommendations, Machine Learning, Data Science, Personalization'}\n",
      "fail {'company': 'eCapital Advisors', 'location': 'Bloomington, MN', 'role': 'Data Science Functional Lead'}\n",
      "fail {'company': 'Expedia Group', 'location': 'Seattle, WA', 'role': 'Marketing Operations - MeSo Data Engineer II'}\n",
      "fail {'company': 'Snowflake', 'location': 'Colorado Springs, CO', 'role': 'Solutions Architect, Data Science'}\n",
      "fail {'company': 'Fidelity Investments', 'location': 'Boston, MA', 'role': 'Team Lead, Data Science'}\n",
      "fail {'company': 'Step', 'location': 'Palo Alto, CA', 'role': 'Senior Data Scientist'}\n",
      "fail {'company': 'Turing Labs Inc.', 'location': 'United States', 'role': 'Customer Data Science and Implementation Lead'}\n",
      "fail {'company': 'KPMG US', 'location': 'Nashville, TN', 'role': 'Lead Data Science Engineer'}\n",
      "fail {'company': 'University of Virginia', 'location': 'Charlottesville, VA', 'role': 'Research Data Scientist, School of Law'}\n",
      "fail {'company': 'Snowflake', 'location': 'Montana, United States', 'role': 'Solutions Architect, Data Science'}\n",
      "fail {'company': 'Avetta', 'location': 'United States', 'role': 'Product Owner - Data Science'}\n",
      "fail {'company': 'Accenture Federal Services', 'location': 'Arlington, VA', 'role': 'Federal - Data Science Practitioner'}\n",
      "fail {'company': 'Co-op Solutions', 'location': 'Columbus, GA', 'role': 'Manager, Data Science - REMOTE'}\n",
      "fail {'company': 'Discover Financial Services', 'location': 'Riverwoods, IL', 'role': 'Lead Data Science Analyst'}\n",
      "fail {'company': 'eBay', 'location': 'Bellevue, WA', 'role': 'Senior Data Science Engineer'}\n",
      "fail {'company': 'Fidelity Investments', 'location': 'Smithfield, RI', 'role': 'Team Lead, Data Science'}\n",
      "fail {'company': 'Guidehouse', 'location': 'Washington, DC', 'role': 'Instructional Data Science Design Consultant'}\n",
      "fail {'company': 'Maxonic', 'location': 'United States', 'role': 'Product Manager (AI/ ML - Data Science)'}\n",
      "fail {'company': 'Snowflake', 'location': 'Minnesota, United States', 'role': 'Solutions Architect, Data Science'}\n",
      "fail {'company': 'Discover Financial Services', 'location': 'Forest Home, AL', 'role': 'Principal Data Science'}\n",
      "fail {'company': 'Carvana', 'location': 'Los Angeles Metropolitan Area', 'role': 'Associate Director, Data Science, Communications Platform'}\n",
      "fail {'company': 'Snowflake', 'location': 'Illinois, United States', 'role': 'Solutions Architect, Data Science'}\n",
      "fail {'company': 'EY', 'location': 'Atlanta, GA', 'role': 'Quantitative Strategies & Solutions (QS2) - Data Science & ML - Senior Associate - Consultant'}\n",
      "fail {'company': 'Sierra Nevada Corporation', 'location': 'Englewood, CO', 'role': 'Data Scientist III (Remote Work Eligible) R0018563'}\n",
      "fail {'company': 'Western Governors University', 'location': 'Dallas, TX', 'role': 'Research Data Analyst'}\n",
      "fail {'company': 'Capital One', 'location': 'McLean, VA', 'role': 'Principal Associate, Data Science-Capital Risk Oversight'}\n",
      "fail {'company': 'Discover Financial Services', 'location': 'Illinois, United States', 'role': 'Lead Data Science Analyst'}\n",
      "fail {'company': 'Snowflake', 'location': 'North Carolina, United States', 'role': 'Solutions Architect, Data Science'}\n",
      "fail {'company': 'Accenture', 'location': 'Charlotte, NC', 'role': 'Data Science Manager - South'}\n",
      "fail {'company': 'JPMorgan Chase & Co.', 'location': 'Columbus, OH', 'role': 'CCB - Quantitative Modeling / Data Science Lead - Vice President'}\n",
      "fail {'company': 'Microsoft', 'location': 'Redmond, WA', 'role': 'Data & Applied Scientist'}\n",
      "fail {'company': 'The Ohio State University Wexner Medical Center', 'location': 'Columbus, OH', 'role': 'Data Analytics Engineer (HS)'}\n",
      "fail {'company': 'Grainger', 'location': 'Chicago, IL', 'role': 'Senior Data Science Engineer'}\n",
      "fail {'company': 'Discover Financial Services', 'location': 'Illinois, United States', 'role': 'Lead Data Science Analyst'}\n",
      "fail {'company': 'Snowflake', 'location': 'Washington County, OR', 'role': 'Solutions Architect, Data Science'}\n",
      "fail {'company': 'State Farm', 'location': 'Tempe, AZ', 'role': 'Lead Data Science Strategist - REMOTE'}\n",
      "fail {'company': 'EY', 'location': 'McLean, VA', 'role': 'Quantitative Strategies & Solutions (QS2) - Data Science & ML - Senior Associate - Consultant'}\n",
      "fail {'company': 'Snowflake', 'location': 'New York, United States', 'role': 'Solutions Architect, Data Science'}\n",
      "fail {'company': 'IBM', 'location': 'Bloomington, IL', 'role': 'Data Science & Governance Presales Technical Specialist (WI and IL)'}\n",
      "fail {'company': 'Capital One', 'location': 'McLean, VA', 'role': 'Data Science Manager - Model Risk Office'}\n",
      "fail {'company': 'Tredence Inc.', 'location': 'Chicago, IL', 'role': 'Associate Manager - Data Science'}\n",
      "fail {'company': 'S&P Global', 'location': 'Texas, United States', 'role': 'Sr. Data Engineer, Data Science Platforms'}\n",
      "fail {'company': 'Accenture', 'location': 'Houston, TX', 'role': 'Data Science Manager - South'}\n",
      "fail {'company': 'Amazon', 'location': 'Boulder, CO', 'role': 'Principal, Product Management - Technical, Measurement, Ad-Tech, & Data Science'}\n",
      "fail {'company': 'S&P Global', 'location': 'Utah, United States', 'role': 'Lead Data Engineer - Data Science Platforms & Infrastructure'}\n",
      "fail {'company': 'EY', 'location': 'Boston, MA', 'role': 'Quantitative Strategies & Solutions (QS2) - Data Science & ML - Senior Associate - Consultant'}\n",
      "fail {'company': 'Discover Financial Services', 'location': 'Home, KS', 'role': 'Principal Data Science'}\n",
      "fail {'company': 'Bank of America', 'location': 'Plano, TX', 'role': 'Data Science Strategy Manager'}\n",
      "fail {'company': 'Clarify Health Solutions', 'location': 'San Francisco, CA', 'role': 'Senior Data Science Engineer'}\n",
      "fail {'company': 'Bank of America', 'location': 'Charlotte, NC', 'role': 'Data Science Strategy Manager'}\n",
      "fail {'company': 'The University of Texas at Austin', 'location': 'Austin, TX', 'role': 'Energy Analyst and Data Scientist'}\n",
      "fail {'company': 'IBM', 'location': 'Buffalo, NY', 'role': 'Data Engineer- Big Data -Buffalo, NY'}\n",
      "fail {'company': 'AbbVie', 'location': 'Waukegan, IL', 'role': 'Data Science Architect'}\n",
      "fail {'company': 'Schrödinger', 'location': 'New York, NY', 'role': 'Genomics Data Science Lead'}\n",
      "fail {'company': 'Farmers Insurance', 'location': 'United States', 'role': 'Director, Data Science'}\n",
      "fail {'company': 'Annalect', 'location': 'United States', 'role': 'Manager, Data Science'}\n",
      "fail {'company': 'Discover Financial Services', 'location': 'Riverwoods, IL', 'role': 'Principal Data Science - Discover Student Loans'}\n",
      "fail {'company': 'Accenture', 'location': 'New York, NY', 'role': 'Data Engineer - 4418064'}\n",
      "fail {'company': 'Dice', 'location': 'United States', 'role': 'Data Scientist'}\n",
      "fail {'company': 'Accenture', 'location': 'Arlington, VA', 'role': 'Data Science Manager - South'}\n",
      "fail {'company': 'Parker Hannifin', 'location': 'Cleveland, OH', 'role': 'Data Science Specialist'}\n",
      "fail {'company': 'Meta', 'location': 'Seattle, WA', 'role': 'Data Science Manager, Infrastructure Strategy'}\n",
      "fail {'company': 'Discover Financial Services', 'location': 'Riverwoods, IL', 'role': 'Lead Data Science Analyst'}\n",
      "fail {'company': 'Amazon', 'location': 'Sunnyvale, CA', 'role': 'Sr. Business Intelligence Eng, Alexa Speech Insights and Data Science'}\n",
      "fail {'company': 'Microsoft', 'location': 'Colorado, United States', 'role': 'Business Analyst - Employee Skilling'}\n",
      "fail {'company': 'EXPEDITORS INTERNATIONAL OF WASHINGTON INC', 'location': 'Ellenwood, GA', 'role': 'Data Scientist / Analyst'}\n",
      "fail {'company': 'S&P Global', 'location': 'Cambridge, MA', 'role': 'Lead Data Engineer - Data Science Platforms & Infrastructure'}\n",
      "fail {'company': 'Discover Financial Services', 'location': 'Illinois, United States', 'role': 'Lead Data Science Analyst'}\n",
      "fail {'company': 'Accenture', 'location': 'Miami, FL', 'role': 'Data Science Manager - South'}\n",
      "fail {'company': 'Farmers Insurance', 'location': 'Illinois, United States', 'role': 'Director, Data Science'}\n",
      "fail {'company': 'S&P Global', 'location': 'Nebraska, United States', 'role': 'Lead Data Engineer - Data Science Platforms & Infrastructure'}\n",
      "fail {'company': 'Nikola Motor Company', 'location': 'Phoenix, AZ', 'role': 'Data Scientist'}\n",
      "fail {'company': 'University of California, San Francisco', 'location': 'San Francisco, CA', 'role': 'Research Data Analyst 1'}\n",
      "fail {'company': 'Capital One', 'location': 'McLean, VA', 'role': 'Manager, Data Science, Card Intelligence'}\n",
      "fail {'company': 'Discover Financial Services', 'location': 'Riverwoods, IL', 'role': 'Lead Data Science Analyst'}\n",
      "fail {'company': 'S&P Global', 'location': 'Vermont, United States', 'role': 'Lead Data Engineer - Data Science Platforms & Infrastructure'}\n",
      "fail {'company': 'Bank of America', 'location': 'Charlotte, NC', 'role': 'Data Science Strategy Manager'}\n",
      "fail {'company': 'Farmers Insurance', 'location': 'Pennsylvania, United States', 'role': 'Director, Data Science'}\n",
      "fail {'company': 'Dropbox', 'location': 'Kansas City, MO', 'role': 'Data Engineer, Finance'}\n",
      "fail {'company': 'Etsy', 'location': 'Brooklyn, NY', 'role': 'Staff Applied Scientist I, Recommendations & Personalization'}\n",
      "fail {'company': 'Johnson & Johnson', 'location': 'Spring House, PA', 'role': 'Principal Scientist, Data Science (JRD DS)'}\n",
      "fail {'company': 'Discover Financial Services', 'location': 'Riverwoods, IL', 'role': 'Principal Data Science'}\n",
      "fail {'company': 'The Trade Desk', 'location': 'Boulder, CO', 'role': 'Manager of Data Science'}\n",
      "fail {'company': 'Bank of America', 'location': 'Charlotte, NC', 'role': 'Data Science Strategy Manager'}\n",
      "fail {'company': 'Farmers Insurance', 'location': 'Pennsylvania, United States', 'role': 'Director, Data Science'}\n",
      "fail {'company': 'Booz Allen Hamilton', 'location': 'Atlanta, GA', 'role': 'Bioinformatics Specialist'}\n",
      "fail {'company': '84.51˚', 'location': 'Deerfield, IL', 'role': 'Senior Data Scientist (P1558)'}\n",
      "fail {'company': 'American Express', 'location': 'New York, NY', 'role': 'Manager - Data Science'}\n",
      "fail {'company': 'Pearson', 'location': 'Albany, NY', 'role': 'Senior Machine Learning Engineer - REMOTE'}\n",
      "fail {'company': 'UPMC', 'location': 'Pittsburgh, PA', 'role': 'Integrated Data Analyst- Intermediate (REMOTE)'}\n",
      "fail {'company': 'Farmers Insurance', 'location': 'Michigan, United States', 'role': 'Director, Data Science'}\n",
      "fail {'company': 'Trajectory Global', 'location': 'United States', 'role': 'Data Scientist Intern'}\n",
      "fail {'company': 'ClearanceJobs', 'location': 'Alexandria, VA', 'role': 'Tech Excellence Data Scientist, Junior with Security Clearance'}\n",
      "fail {'company': 'Redhorse Corporation', 'location': 'Arlington, VA', 'role': 'Data Analyst'}\n",
      "fail {'company': 'Levi Strauss & Co.', 'location': 'United States', 'role': 'Senior Analyst, Global DTC Business Analytics'}\n",
      "fail {'company': 'West Monroe', 'location': 'San Francisco, CA', 'role': 'Data Science Manager'}\n",
      "fail {'company': 'Discover Financial Services', 'location': 'Illinois, United States', 'role': 'Lead Data Science Analyst'}\n",
      "fail {'company': 'Bain & Company', 'location': 'Austin, TX', 'role': 'Senior Manager, Data Science'}\n",
      "fail {'company': 'Harnham', 'location': 'Chicago, IL', 'role': 'Analytics Manager, Data Science Solutions'}\n",
      "fail {'company': 'Albemarle Corporation', 'location': 'Baton Rouge, LA', 'role': 'Global Data Science Leader - Bromine R&T'}\n",
      "fail {'company': 'S&P Global', 'location': 'Florida, United States', 'role': 'Senior Data Engineer - Data Pipelines & Data Science Platforms'}\n",
      "fail {'company': 'Capital One', 'location': 'Plano, TX', 'role': 'Manager, Data Science'}\n",
      "fail {'company': 'Inspire Brands', 'location': 'Atlanta, GA', 'role': 'Team Lead - Data Science'}\n",
      "fail {'company': 'Discover Financial Services', 'location': 'Home Creek, VA', 'role': 'Principal Data Science'}\n",
      "fail {'company': 'XPO Logistics, Inc.', 'location': 'Chicago, IL', 'role': 'Senior Scientist, Data Science'}\n",
      "fail {'company': 'S&P Global', 'location': 'Massachusetts, United States', 'role': 'Lead Data Engineer - Data Science Platforms & Infrastructure'}\n",
      "fail {'company': 'Syngenta', 'location': 'Chicago, IL', 'role': 'Data Scientist - Remote'}\n",
      "fail {'company': 'Putnam', 'location': 'Boston, MA', 'role': 'Data Scientist II'}\n",
      "fail {'company': 'Cadillac', 'location': 'Detroit, MI', 'role': 'Cadillac: Data Science Lead- Go-To-Market Strategy & Innovations'}\n",
      "fail {'company': 'Amazon', 'location': 'Seattle, WA', 'role': 'Security Engineer - Security Data Science SDS'}\n",
      "fail {'company': 'Discover Financial Services', 'location': 'Illinois, United States', 'role': 'Principal Data Science'}\n",
      "fail {'company': 'Verizon', 'location': 'Basking Ridge, NJ', 'role': 'Senior Engineer - Data Science'}\n",
      "fail {'company': 'S&P Global', 'location': 'United, LA', 'role': 'Senior Data Engineer - Data Pipelines & Data Science Platforms'}\n",
      "fail {'company': 'Dice', 'location': 'United States', 'role': 'Data Scientist'}\n",
      "fail {'company': 'Elevance Health', 'location': 'Virginia Beach, VA', 'role': 'Advanced Analytics Consultant'}\n",
      "fail {'company': 'Delfi Diagnostics', 'location': 'Baltimore, MD', 'role': 'Associate Director, Data Science'}\n"
     ]
    }
   ],
   "source": [
    "# Calling the function and store job_dict into dataframe\n",
    "driver = webdriver.Chrome('/Users/williambaldridge/linkedin-data-science-project/chromedriver')\n",
    "secret_file = open(\"env.txt\", \"r\")\n",
    "password = secret_file.read()\n",
    "newdf2 = main(driver,password)\n",
    "\n",
    "# driver.quit()"
   ]
  },
  {
   "cell_type": "code",
   "execution_count": 162,
   "outputs": [
    {
     "data": {
      "text/plain": "company          0\nlocation         0\nrole             0\ndescription    149\neducation      149\ndtype: int64"
     },
     "execution_count": 162,
     "metadata": {},
     "output_type": "execute_result"
    }
   ],
   "source": [
    "# 2nd run - Checking result dataframe null values\n",
    "newdf2.T.isnull().sum()"
   ],
   "metadata": {
    "collapsed": false,
    "pycharm": {
     "name": "#%%\n"
    }
   }
  },
  {
   "cell_type": "code",
   "execution_count": 153,
   "outputs": [
    {
     "data": {
      "text/plain": "            https://www.linkedin.com/jobs/view/3209804028/?eBP=CwEAAAGCooswLC92xAgVhLwAfAp8BDV-bp9IgI0l_jjkwIHtqFIkmOKPW8OTbtMpt0jkXfnWCekOEUXtTFlAlr2v7oivnWmRp4s-2EMyS1FSi_3rt4K7SI7Y6zztKel1t8ASplWSfDCJkxbvVndefl-WLaNP1YcesHTLerOEnXOtgvE-T-oEKhg0k-SAHn9aRufCMeTiEXK5j91bw-7S3ZoSF2EC5zoMXQea0ZXtXFqwic5MNVZIVXyroKDyHzsB4OAXFgBmNcr62MwOitbpfVg4xcNcezAH8496btVXWOZZH1lSy_XkCL5eFvkk9UNVptlOKYACHRafLi1__jCKfo-A61yUuP3K-xNFY_EpqqCC644VGepXO3udXX7_Puex&recommendedFlavor=PRE_SCREENING_QUESTIONS&refId=lC3fZ8%2BOil0oPKKL03koLA%3D%3D&trackingId=CNb4E7RR3gP%2BP6pEnFZ1LA%3D%3D&trk=flagship3_search_srp_jobs  \\\ncompany                                                                                    Masterworks                                                                                                                                                                                                                                                                                                                                                                                                                                                                                                                   \nlocation                                                               New York City Metropolitan Area                                                                                                                                                                                                                                                                                                                                                                                                                                                                                                                   \nrole                                                                                  VP, Data Science                                                                                                                                                                                                                                                                                                                                                                                                                                                                                                                   \ndescription  Company Overview:\\n\\nMasterworks is a fintech platform that allows anyone to invest in...                                                                                                                                                                                                                                                                                                                                                                                                                                                                                                                   \neducation    41% have a Master's Degree\\n26% have a Doctor of Philosophy\\n24% have a Master of Busi...                                                                                                                                                                                                                                                                                                                                                                                                                                                                                                                   \n\n            https://www.linkedin.com/jobs/view/3218989416/?eBP=CwEAAAGCooswLFPrId1XFpMvVIJ4yCJM4uTz0jxEWV5XVj519klP_nD7-Ee5TvFy795Psm801j06cFrjR5oGqJNuBOZxFSyYK5yACpW4dIAzTPWawqDbRGSINzkzqN4uommozbbc_WAtwwdU-VmlLtJDVNmqFLj5sAtlhXf90guNmpjYoAyIMwle5Ega5M8Bw79g_61w0-p5iTHuOU61ScmR95BAVEPOKFvLywF56zmkchRDYGAa4YssvO24ZBSijSBTtKH7hFxt1w52KrA8-1JRjvzHdPeTwmdT5GgbzcYNb0b1IejSlWhIJUUI_GIQFDMOHOP7TEmO-QrhTxAJClJVghNE-qtZEa0j7cLlddDQDrjU-OVfcrW-AeM-0XvH&recommendedFlavor=SKILL_ASSESSMENTS&refId=lC3fZ8%2BOil0oPKKL03koLA%3D%3D&trackingId=xdsGk07lEvrgg3rD601Kwg%3D%3D&trk=flagship3_search_srp_jobs  \\\ncompany                                                                              Gallagher Bassett                                                                                                                                                                                                                                                                                                                                                                                                                                                                                                           \nlocation                                                                           Rolling Meadows, IL                                                                                                                                                                                                                                                                                                                                                                                                                                                                                                           \nrole                                                                                      Data Science                                                                                                                                                                                                                                                                                                                                                                                                                                                                                                           \ndescription                                                                                        NaN                                                                                                                                                                                                                                                                                                                                                                                                                                                                                                           \neducation                                                                                          NaN                                                                                                                                                                                                                                                                                                                                                                                                                                                                                                           \n\n            https://www.linkedin.com/jobs/view/3142891690/?eBP=CwEAAAGCooswLH_bUODSChzlZscRDJutgpFVlUTc5T4ZaQsI7vZkFrzEjRqtm-PstLwetV6-SlEWi0EaZCoVqz7mF3X_8h3Rqr4yqdMQHdOATepc2-nowV5kKjs9WIyySB-IuaopmwJzJBki3EvtvEo8PxXAfouYK-nMNWoXxaiP_l_R4zwXwXKcoKhdmtAzJdLvOPsLgREe-rd1MazHLBjT20g8VfGJg_5lI9zappJ5CVpym6N43O_fGUGUHp45nAwL91b7qfbjYI7NbJWkI2fJPTTRNVcr6NIYzHbpXCjAA62DDCM-3G5swAl6eUmeWax7KaBKnIvWbNxLMMefce1lCiSc0XSfzfBn9dyjAWTperwS1TBou56RpHH5g9XfkmI&recommendedFlavor=SKILL_ASSESSMENTS&refId=lC3fZ8%2BOil0oPKKL03koLA%3D%3D&trackingId=5D519cIlEyA4sPwZgBYlWQ%3D%3D&trk=flagship3_search_srp_jobs  \\\ncompany                                                                                            PwC                                                                                                                                                                                                                                                                                                                                                                                                                                                                                                              \nlocation                                                                                    Austin, TX                                                                                                                                                                                                                                                                                                                                                                                                                                                                                                              \nrole                                           Data Science & Machine Learning SA w/ Conversational AI                                                                                                                                                                                                                                                                                                                                                                                                                                                                                                              \ndescription  Specialty/Competency: Data, Analytics & AI\\n\\nIndustry/Sector: Not Applicable\\n\\nTime ...                                                                                                                                                                                                                                                                                                                                                                                                                                                                                                              \neducation    22% have a Bachelor's Degree (Similar to you)\\n44% have a Master's Degree\\n11% have a ...                                                                                                                                                                                                                                                                                                                                                                                                                                                                                                              \n\n            https://www.linkedin.com/jobs/view/3077903474/?eBP=CwEAAAGCooswLO5XlkPlnOVXaF0SSeezj9PQILJrj4xYG05nSE0WStYxlHNy-NflpCNZBO5LMmERzWO5M41jmgU_kf3GuhB-eN6FPQDOzdRXCcSg01qhTMjuUQkBjLLBbolAC5UxfN-Mu5aARG4-8pxWM2q2CMI6xhR1a9XrrY595Q-enyClDuagi8mcyljXDvl6h2u1uIS1bVvKu3uu0ClLUHLYscdIUk7_gLli_BLUVtuQR0PbneL-IrxE57VrBuGFWNnnyO_LrB1s-tl3hPiFMgj2OuXSIl3KxHJhQJmI2gRDfam2TFR4vpuRSLzNJbsdca3mu4O5P8oAABqJfzAgTXPK2mExCUu-Z7BRzpINhMqqrEUln-W1w94yvCuaZ1o&recommendedFlavor=IN_NETWORK&refId=lC3fZ8%2BOil0oPKKL03koLA%3D%3D&trackingId=OQXA3luuV%2FVhjh6e%2Fpvi5g%3D%3D&trk=flagship3_search_srp_jobs  \\\ncompany                                                                                          Apple                                                                                                                                                                                                                                                                                                                                                                                                                                                                                                           \nlocation                                                                                    Austin, TX                                                                                                                                                                                                                                                                                                                                                                                                                                                                                                           \nrole                                        Applied Scientist, AMP Data Science and Analytics - Austin                                                                                                                                                                                                                                                                                                                                                                                                                                                                                                           \ndescription                                                                                        NaN                                                                                                                                                                                                                                                                                                                                                                                                                                                                                                           \neducation                                                                                          NaN                                                                                                                                                                                                                                                                                                                                                                                                                                                                                                           \n\n            https://www.linkedin.com/jobs/view/3142889894/?eBP=CwEAAAGCoouzPYLgIGoLDtVAfof9LvO2P1alBqA1THYEyCCe55en_o0KYGXMxv6WbfqgVK_MgknSD1ijtBfjv3Urj2TL2b1fgVLWU--8eCr0HWpKgIOOgkmWFel4YWdJtgqztBlCp5i0pl15AEjfQLyAva8y5EV_MNtmpm_3zTsXM5_aXJcF9NOUFoU2RbCMutlQsPMHakTFM2kz3cZXtef5pAH8ipPUXHhJCufur9WyXqHLJ7qKrwoVsRT-AK34ph9bRUWU5dcNIbEHQbSNPaWr2G1tbQue8FP2W2gI1UX3I2zS5NmZJXaVG-E68Te7Sg3YWTfinyVMpZItIqS07W89DXI&recommendedFlavor=SCHOOL_RECRUIT&refId=FmgGMzrq0mbd8gIK9L1qXA%3D%3D&trackingId=bHJxzAGZqw8wzunOAl9LdQ%3D%3D&trk=flagship3_search_srp_jobs  \\\ncompany                                                                                            PwC                                                                                                                                                                                                                                                                                                                                                                                                                                                                 \nlocation                                                                                 Charlotte, NC                                                                                                                                                                                                                                                                                                                                                                                                                                                                 \nrole                                           Data Science & Machine Learning SA w/ Conversational AI                                                                                                                                                                                                                                                                                                                                                                                                                                                                 \ndescription  Specialty/Competency: Data, Analytics & AI\\n\\nIndustry/Sector: Not Applicable\\n\\nTime ...                                                                                                                                                                                                                                                                                                                                                                                                                                                                 \neducation    25% have a Master's Degree\\n25% have a Doctor of Philosophy\\n25% have a Associate's De...                                                                                                                                                                                                                                                                                                                                                                                                                                                                 \n\n            https://www.linkedin.com/jobs/view/3216061552/?eBP=CwEAAAGCoouzPZgMMbS9U2-n9qUdecNHgMCgcxxWGJfpQwuGwbjDHaD0Y9I1bCfcESMyk3ilyB8SBAeGf3W5ukCC5UaZ4MrowXgqjohwYyAuhmMEJ-nPRMxISTuwokaOBRguFmDQ60yxeRhc_vSVXiufNIbxbO2PnEvsc-Ia9XizW7pvVfl4USGZeBk1A4Zz0i7hoy_gNI64-INwANk5m7ySb-8s0dwEJGhoCCupbZheu1WKVfbm19HCWosTIK8gEs-HAi8QGTIzKQQkBjdYY5V66dRd50CbYCBVyjlkFDSTp98O-xL4z7kqF3zRkj_h1vD0Dys8oKjExSKbw9s7NkuO&recommendedFlavor=SKILL_ASSESSMENTS&refId=FmgGMzrq0mbd8gIK9L1qXA%3D%3D&trackingId=APORR1NYtfLa8iCrgRTZ5g%3D%3D&trk=flagship3_search_srp_jobs  \\\ncompany                                                                                    Capital One                                                                                                                                                                                                                                                                                                                                                                                                                                                                 \nlocation                                                                                  Richmond, VA                                                                                                                                                                                                                                                                                                                                                                                                                                                                 \nrole                                         Principal Associate, Data Science - Anti Money Laundering                                                                                                                                                                                                                                                                                                                                                                                                                                                                 \ndescription                                                                                        NaN                                                                                                                                                                                                                                                                                                                                                                                                                                                                 \neducation                                                                                          NaN                                                                                                                                                                                                                                                                                                                                                                                                                                                                 \n\n            https://www.linkedin.com/jobs/view/3088349474/?eBP=CwEAAAGCoouzPUjMXyUcHkzhFQNYL_hmbdwV-VG51pozVjYfyCKveHGZu9j3N3UO2U4daBNFgZD3lVVL6-NAl6bJ1bcu5vB5q5ueL4kpcVXw0QpkJLsgjs5KQJCPiI3Kmqywtb8OPZ-Zzzcn57mAl1ziU-xoF2XVh9v3k2faG71KvDrCvP8CGoVCPQIzI71p-eN4Ee0QTllaWhdW_PYnWN9jH4YvKnDSkSQ9sQWY8W9jnfiQdWj2sw4-RQaxbjC3z7J_CdtxjgKYBJjYLQP8nsw80f6PLPTuHnaX4oJSpbO54SeCD-d6s6BmGZ1j6X2ld_OoYMIQth5JajIQF-gbx9rlc1quu15mfLnltHZgZRxtLx4oiZFWosv9p7KCAX5J&recommendedFlavor=IN_NETWORK&refId=FmgGMzrq0mbd8gIK9L1qXA%3D%3D&trackingId=lCmwULMHB%2FRHiN5N61%2Ft0A%3D%3D&trk=flagship3_search_srp_jobs  \\\ncompany                                                                                          Apple                                                                                                                                                                                                                                                                                                                                                                                                                                                                                                      \nlocation                                                                                    Austin, TX                                                                                                                                                                                                                                                                                                                                                                                                                                                                                                      \nrole                                                  Data Science Engineer - Strategic Data Solutions                                                                                                                                                                                                                                                                                                                                                                                                                                                                                                      \ndescription  Summary\\n\\nAre you ready to apply your educational experience to real-world problems? ...                                                                                                                                                                                                                                                                                                                                                                                                                                                                                                      \neducation    18% have a Bachelor's Degree (Similar to you)\\n73% have a Master's Degree\\n5% have a D...                                                                                                                                                                                                                                                                                                                                                                                                                                                                                                      \n\n            https://www.linkedin.com/jobs/view/3181261210/?eBP=CwEAAAGCoouzPWyjMDmUY0MfxYDvvXuKHOfYwlLksXgWUM08zdOUfvk_9aCb_SJ-ViEjlCYrhZbnOvybYvszSWZqOjHcbMQBFVp8Mo6B63IKsww17_NZS_1cSQYS07QDTC4IcVuA3Wt_p7K4LBRbSomXMx2rntMITtCi8jo8B3hfyrZ_emWaNWU1y_OnwOmInjXA_nuhpq_nEwa9yr1oTY4ylj6KUt-DPG04MQfShO7yi8ULAMfsyE2m8UvmJ9XZnY8BRbrheEyIqu1vf0L27GosXPTX-NudkVEFka33EozdloOY-yQbR1mUmRZsVFXhY0plztWsx6KBggIF01qVOEmRWlUqG81c3bcmkxCR8gQRYk2XWzBM9p5nTmh_B0aQ&recommendedFlavor=SKILL_ASSESSMENTS&refId=FmgGMzrq0mbd8gIK9L1qXA%3D%3D&trackingId=W%2FffO7vA1vgsstWDO3C0dg%3D%3D&trk=flagship3_search_srp_jobs  \\\ncompany                                                                               Procter & Gamble                                                                                                                                                                                                                                                                                                                                                                                                                                                                                                           \nlocation                                                                                     Mason, OH                                                                                                                                                                                                                                                                                                                                                                                                                                                                                                           \nrole                                                                                  R&D Data Science                                                                                                                                                                                                                                                                                                                                                                                                                                                                                                           \ndescription                                                                                        NaN                                                                                                                                                                                                                                                                                                                                                                                                                                                                                                           \neducation                                                                                          NaN                                                                                                                                                                                                                                                                                                                                                                                                                                                                                                           \n\n            https://www.linkedin.com/jobs/view/3197190485/?eBP=JOB_SEARCH_ORGANIC&recommendedFlavor=IN_NETWORK&refId=FmgGMzrq0mbd8gIK9L1qXA%3D%3D&trackingId=dsG%2F4ZNY%2BrrLAZBrilnqiw%3D%3D&trk=flagship3_search_srp_jobs  \\\ncompany                                                                                  Expedia Group                                                                                                                        \nlocation                                                                                    Austin, TX                                                                                                                        \nrole                                                             Data Scientist III, Product Analytics                                                                                                                        \ndescription                                                                                        NaN                                                                                                                        \neducation                                                                                          NaN                                                                                                                        \n\n            https://www.linkedin.com/jobs/view/3202134351/?eBP=JOB_SEARCH_ORGANIC&recommendedFlavor=SKILL_ASSESSMENTS&refId=FmgGMzrq0mbd8gIK9L1qXA%3D%3D&trackingId=0v8Klp8xwntIj9QNpwDBig%3D%3D&trk=flagship3_search_srp_jobs  \\\ncompany                                                                             Cox Communications                                                                                                                           \nlocation                                                                                   Atlanta, GA                                                                                                                           \nrole                                                                            Data Scientist I or II                                                                                                                           \ndescription  Job Description\\n\\nJob Posting Title: Data Scientist II\\n\\nDescription\\n\\nRole Summary...                                                                                                                           \neducation    18% have a Bachelor's Degree (Similar to you)\\n75% have a Master's Degree\\n8% have a D...                                                                                                                           \n\n             ...  \\\ncompany      ...   \nlocation     ...   \nrole         ...   \ndescription  ...   \neducation    ...   \n\n            https://www.linkedin.com/jobs/view/3198234796/?eBP=JOB_SEARCH_ORGANIC&recommendedFlavor=SKILL_ASSESSMENTS&refId=UDxpvXk0cJ4Z%2BMU7VuPXUw%3D%3D&trackingId=fZ7TDetqAduCQFbTrRQF%2Fg%3D%3D&trk=flagship3_search_srp_jobs  \\\ncompany                                                                                        Dropbox                                                                                                                               \nlocation                                                                                   Raleigh, NC                                                                                                                               \nrole                                                                            Data Engineer, Finance                                                                                                                               \ndescription                                                                                        NaN                                                                                                                               \neducation                                                                                          NaN                                                                                                                               \n\n            https://www.linkedin.com/jobs/view/3213227272/?eBP=JOB_SEARCH_ORGANIC&refId=UDxpvXk0cJ4Z%2BMU7VuPXUw%3D%3D&trackingId=8THgC91wVsVWHCdJCCoyNg%3D%3D&trk=flagship3_search_srp_jobs  \\\ncompany                                                                                  ClearanceJobs                                                                                         \nlocation                                                                                Alexandria, VA                                                                                         \nrole                                    Tech Excellence Data Scientist, Junior with Security Clearance                                                                                         \ndescription                                                                                        NaN                                                                                         \neducation                                                                                          NaN                                                                                         \n\n            https://www.linkedin.com/jobs/view/3202720497/?eBP=JOB_SEARCH_ORGANIC&recommendedFlavor=SKILL_ASSESSMENTS&refId=UDxpvXk0cJ4Z%2BMU7VuPXUw%3D%3D&trackingId=i7vwYIe8b6BYNoHowm6F5g%3D%3D&trk=flagship3_search_srp_jobs  \\\ncompany                                                                                      Roku Inc.                                                                                                                             \nlocation                                                                                  New York, NY                                                                                                                             \nrole                                                              Senior Data Scientist, Merchandising                                                                                                                             \ndescription                                                                                        NaN                                                                                                                             \neducation                                                                                          NaN                                                                                                                             \n\n            https://www.linkedin.com/jobs/view/3071544870/?eBP=CwEAAAGCoperbAQdBo67rsbE6RpMpVTDIjXR5NKuUp-Uqx0gl_1prB3D29nlZWnIWb151dhWnXqm4qmYbRLZpbGMDfdoxgtkVCP-V_yZWPX0CxtLjYhH9GCuZUCwYU5SY05MDddOB9ACjqwIsT5B9xWTu0l8Dj7L50ZhjfEGXUvupx7IO6dkjH8ioopiyB4M74GEuyXJhOqOX4EKUMi6poiCPpXO4HIYbuHu3KNDWTC13J3kncjauIPtHMbexkxYfne4IwtDyk969O6al8lWJGUXdqrTscaNcTCdkjKfCqfrYWgQvwD-w39yZ97Tx7ecds5AcL5n019Wh8QjHZnSInuf63g&recommendedFlavor=IN_NETWORK&refId=ElEju5h1asDxpf%2BstQULpw%3D%3D&trackingId=lTi5FapcY95mvMfrKfNI4Q%3D%3D&trk=flagship3_search_srp_jobs  \\\ncompany                                                                                         Amazon                                                                                                                                                                                                                                                                                                                                                                                                                                                               \nlocation                                                                                   Seattle, WA                                                                                                                                                                                                                                                                                                                                                                                                                                                               \nrole                                                     Security Engineer - Security Data Science SDS                                                                                                                                                                                                                                                                                                                                                                                                                                                               \ndescription                                                                                        NaN                                                                                                                                                                                                                                                                                                                                                                                                                                                               \neducation                                                                                          NaN                                                                                                                                                                                                                                                                                                                                                                                                                                                               \n\n            https://www.linkedin.com/jobs/view/3098442302/?eBP=CwEAAAGCoperbPVLoCWYEW4o-4no7zaJICgs8gYbi-kKSr2gtEUZgcvOPbqWRMwy4gM0OrZ4K3gd9w4THsPg-CymbdN9hnOqhvR7GOggh7Bhu8PHW3cFoH1016EQV2hjgH-4iwFVFvLD_5nWwA_aF4ETZsmDsPRVSwfNLULF-KPW29WbslbxgI_nH4hMfSnvZNuP84cMBDTRd5HDKQ3_m-fTPGov5iWSa6m44_AhEyOZjDwut0tNnttP5GYX0R6lStfSuP21FT8fak1gy56T4BEXUSS8gqqXedjSfkwNWI2XPHg0jXcTFxS9b-fRCaf6aBW3S-pLuO5vlwNX1RP4HxUYyg0EnA&recommendedFlavor=SKILL_ASSESSMENTS&refId=ElEju5h1asDxpf%2BstQULpw%3D%3D&trackingId=dIM5OFZOcFgxGA%2FILzaNMw%3D%3D&trk=flagship3_search_srp_jobs  \\\ncompany                                                                                     S&P Global                                                                                                                                                                                                                                                                                                                                                                                                                                                                           \nlocation                                                                                    United, LA                                                                                                                                                                                                                                                                                                                                                                                                                                                                           \nrole                                    Senior Data Engineer - Data Pipelines & Data Science Platforms                                                                                                                                                                                                                                                                                                                                                                                                                                                                           \ndescription                                                                                        NaN                                                                                                                                                                                                                                                                                                                                                                                                                                                                           \neducation                                                                                          NaN                                                                                                                                                                                                                                                                                                                                                                                                                                                                           \n\n            https://www.linkedin.com/jobs/view/3194947617/?eBP=CwEAAAGCoperbC-ubncIGG41iiYpJy2trF0GEPgDwUwxxgaGIARVMDBafAyoGegchutmdhnWM-PndPocvinACAfU6ryQ0MK4VHHZv35MbbsKtLqizDQ4PDRiG3t3LpKEOJKIFSRf8sDANHSOVIqGcCiBaE57goW7h4MTtNA_UkfFbj6km5kAynUr4AFE3-8VvxnBYz-tdj8-22UIFDsD3V2_bLsvcxz4QsC9LHxAblMotb--o4mcvKkA45Upks2-IIUDFkQZBq6ThhbBS055GSioieb7MzvbFyRwFp85a7UA4ax5nbMhj9MopTCXCxRQDeQG0UqpWVn2nM4ix23MwiJU4jv617bldfaCGn0-RHJ31eJEuGBlUeitq4CxwsO-LPU&recommendedFlavor=ACTIVELY_HIRING_COMPANY&refId=ElEju5h1asDxpf%2BstQULpw%3D%3D&trackingId=IUCgN5VXu1DZiTRffewdCA%3D%3D&trk=flagship3_search_srp_jobs  \\\ncompany                                                                    Discover Financial Services                                                                                                                                                                                                                                                                                                                                                                                                                                                                                                                    \nlocation                                                                                Home Creek, VA                                                                                                                                                                                                                                                                                                                                                                                                                                                                                                                    \nrole                                                                            Principal Data Science                                                                                                                                                                                                                                                                                                                                                                                                                                                                                                                    \ndescription                                                                                        NaN                                                                                                                                                                                                                                                                                                                                                                                                                                                                                                                    \neducation                                                                                          NaN                                                                                                                                                                                                                                                                                                                                                                                                                                                                                                                    \n\n            https://www.linkedin.com/jobs/view/3186832601/?eBP=CwEAAAGCoperbGPwTYvbVEArgUBRKwq_4OB40MLWNDIPLkv-F_v6S1Jdwim8zW6-ykTe9tUTTeNXzg17TmqLmyD1GzeKE3zt7Y0kB6Ebm13Laj523TsztZA2vdHo_2HFTfa4YUCJu0sdQAgDBykjxYYy27sRsvgkIWnZRVER5LJtPSNzv6paurQ2wgZZVU3Qeza7qg4wWh3iVsRVmM6dRMHlCUfiu0HpUlEHeJiyFtOM7paKc9IA2iRt1oSl7GHj8Dd21N3qAurQ9Z_5UOsPIVXM9H0batnrTnE8ELrZzT_4PxxIJn1ODZe1qpwFEI0lZk8C8tTUnhtS0L4Faubi-QzCebW023oC&recommendedFlavor=SCHOOL_RECRUIT&refId=ElEju5h1asDxpf%2BstQULpw%3D%3D&trackingId=rNz6Xbws%2BeIrwE%2B9Hf1VEg%3D%3D&trk=flagship3_search_srp_jobs  \\\ncompany                                                                                        Verizon                                                                                                                                                                                                                                                                                                                                                                                                                                                                            \nlocation                                                                             Basking Ridge, NJ                                                                                                                                                                                                                                                                                                                                                                                                                                                                            \nrole                                                                    Senior Engineer - Data Science                                                                                                                                                                                                                                                                                                                                                                                                                                                                            \ndescription                                                                                        NaN                                                                                                                                                                                                                                                                                                                                                                                                                                                                            \neducation                                                                                          NaN                                                                                                                                                                                                                                                                                                                                                                                                                                                                            \n\n            https://www.linkedin.com/jobs/view/3215491566/?eBP=JOB_SEARCH_ORGANIC&recommendedFlavor=SKILL_ASSESSMENTS&refId=ElEju5h1asDxpf%2BstQULpw%3D%3D&trackingId=gHyCjERXhWyQ2rjJpAsK8w%3D%3D&trk=flagship3_search_srp_jobs  \\\ncompany                                                                                         84.51˚                                                                                                                             \nlocation                                                                                Cincinnati, OH                                                                                                                             \nrole                                                                             Data Engineer (P1969)                                                                                                                             \ndescription                                                                                        NaN                                                                                                                             \neducation                                                                                          NaN                                                                                                                             \n\n            https://www.linkedin.com/jobs/view/3216025869/?eBP=JOB_SEARCH_ORGANIC&recommendedFlavor=SKILL_ASSESSMENTS&refId=ElEju5h1asDxpf%2BstQULpw%3D%3D&trackingId=7vjiMX0zNQJNAOXkhFnhnQ%3D%3D&trk=flagship3_search_srp_jobs  \\\ncompany                                                                               Kolter Solutions                                                                                                                             \nlocation                                                                                  Lakeland, FL                                                                                                                             \nrole                                                                                    Data Scientist                                                                                                                             \ndescription                                                                                        NaN                                                                                                                             \neducation                                                                                          NaN                                                                                                                             \n\n            https://www.linkedin.com/jobs/view/2937191353/?eBP=CwEAAAGCoperbOSh216j-gePQjRyihTpSsUjziDrK7Su7BzLkoNaa_R8Li6_TSnyx5b1neG2VGczZf0bxNfOmIc21OiBfJAbM8YCgfDWmCk2FcCHk93NMYolGK9EC6idnh-Vs180ZmyAPGQm94EzjtCSGRf9iO55x46Gp1g8ADDM6P4rS8Ic3s7Z4JhVKozcnDw2bJTLan3c2iu4M1o1cW6GLzSdt__JuoBbQLh4rt8wPSdDVEiOO1pxekd_0Dtj9bk7FaXvD1IoxUAIXsIwXFrlsLWzWeWfzlt9hhOSFVztBsT6E0RbZBr1y9vzVEMGTVE2nJvoCUePllPol8Ttmtm5MMJJmpi_xLh-WWVcWNP2zPvDrCEYyKvubOKEN8WNTFI&recommendedFlavor=ACTIVELY_HIRING_COMPANY&refId=ElEju5h1asDxpf%2BstQULpw%3D%3D&trackingId=YOcnweaHXZGLEZbpDyixEQ%3D%3D&trk=flagship3_search_srp_jobs  \ncompany                                                                                   Jungle Scout                                                                                                                                                                                                                                                                                                                                                                                                                                                                                                                   \nlocation                                                                                    Austin, TX                                                                                                                                                                                                                                                                                                                                                                                                                                                                                                                   \nrole                                                                      Senior Manager, Data Science                                                                                                                                                                                                                                                                                                                                                                                                                                                                                                                   \ndescription                                                                                        NaN                                                                                                                                                                                                                                                                                                                                                                                                                                                                                                                   \neducation                                                                                          NaN                                                                                                                                                                                                                                                                                                                                                                                                                                                                                                                   \n\n[5 rows x 263 columns]",
      "text/html": "<div>\n<style scoped>\n    .dataframe tbody tr th:only-of-type {\n        vertical-align: middle;\n    }\n\n    .dataframe tbody tr th {\n        vertical-align: top;\n    }\n\n    .dataframe thead th {\n        text-align: right;\n    }\n</style>\n<table border=\"1\" class=\"dataframe\">\n  <thead>\n    <tr style=\"text-align: right;\">\n      <th></th>\n      <th>https://www.linkedin.com/jobs/view/3209804028/?eBP=CwEAAAGCooswLC92xAgVhLwAfAp8BDV-bp9IgI0l_jjkwIHtqFIkmOKPW8OTbtMpt0jkXfnWCekOEUXtTFlAlr2v7oivnWmRp4s-2EMyS1FSi_3rt4K7SI7Y6zztKel1t8ASplWSfDCJkxbvVndefl-WLaNP1YcesHTLerOEnXOtgvE-T-oEKhg0k-SAHn9aRufCMeTiEXK5j91bw-7S3ZoSF2EC5zoMXQea0ZXtXFqwic5MNVZIVXyroKDyHzsB4OAXFgBmNcr62MwOitbpfVg4xcNcezAH8496btVXWOZZH1lSy_XkCL5eFvkk9UNVptlOKYACHRafLi1__jCKfo-A61yUuP3K-xNFY_EpqqCC644VGepXO3udXX7_Puex&amp;recommendedFlavor=PRE_SCREENING_QUESTIONS&amp;refId=lC3fZ8%2BOil0oPKKL03koLA%3D%3D&amp;trackingId=CNb4E7RR3gP%2BP6pEnFZ1LA%3D%3D&amp;trk=flagship3_search_srp_jobs</th>\n      <th>https://www.linkedin.com/jobs/view/3218989416/?eBP=CwEAAAGCooswLFPrId1XFpMvVIJ4yCJM4uTz0jxEWV5XVj519klP_nD7-Ee5TvFy795Psm801j06cFrjR5oGqJNuBOZxFSyYK5yACpW4dIAzTPWawqDbRGSINzkzqN4uommozbbc_WAtwwdU-VmlLtJDVNmqFLj5sAtlhXf90guNmpjYoAyIMwle5Ega5M8Bw79g_61w0-p5iTHuOU61ScmR95BAVEPOKFvLywF56zmkchRDYGAa4YssvO24ZBSijSBTtKH7hFxt1w52KrA8-1JRjvzHdPeTwmdT5GgbzcYNb0b1IejSlWhIJUUI_GIQFDMOHOP7TEmO-QrhTxAJClJVghNE-qtZEa0j7cLlddDQDrjU-OVfcrW-AeM-0XvH&amp;recommendedFlavor=SKILL_ASSESSMENTS&amp;refId=lC3fZ8%2BOil0oPKKL03koLA%3D%3D&amp;trackingId=xdsGk07lEvrgg3rD601Kwg%3D%3D&amp;trk=flagship3_search_srp_jobs</th>\n      <th>https://www.linkedin.com/jobs/view/3142891690/?eBP=CwEAAAGCooswLH_bUODSChzlZscRDJutgpFVlUTc5T4ZaQsI7vZkFrzEjRqtm-PstLwetV6-SlEWi0EaZCoVqz7mF3X_8h3Rqr4yqdMQHdOATepc2-nowV5kKjs9WIyySB-IuaopmwJzJBki3EvtvEo8PxXAfouYK-nMNWoXxaiP_l_R4zwXwXKcoKhdmtAzJdLvOPsLgREe-rd1MazHLBjT20g8VfGJg_5lI9zappJ5CVpym6N43O_fGUGUHp45nAwL91b7qfbjYI7NbJWkI2fJPTTRNVcr6NIYzHbpXCjAA62DDCM-3G5swAl6eUmeWax7KaBKnIvWbNxLMMefce1lCiSc0XSfzfBn9dyjAWTperwS1TBou56RpHH5g9XfkmI&amp;recommendedFlavor=SKILL_ASSESSMENTS&amp;refId=lC3fZ8%2BOil0oPKKL03koLA%3D%3D&amp;trackingId=5D519cIlEyA4sPwZgBYlWQ%3D%3D&amp;trk=flagship3_search_srp_jobs</th>\n      <th>https://www.linkedin.com/jobs/view/3077903474/?eBP=CwEAAAGCooswLO5XlkPlnOVXaF0SSeezj9PQILJrj4xYG05nSE0WStYxlHNy-NflpCNZBO5LMmERzWO5M41jmgU_kf3GuhB-eN6FPQDOzdRXCcSg01qhTMjuUQkBjLLBbolAC5UxfN-Mu5aARG4-8pxWM2q2CMI6xhR1a9XrrY595Q-enyClDuagi8mcyljXDvl6h2u1uIS1bVvKu3uu0ClLUHLYscdIUk7_gLli_BLUVtuQR0PbneL-IrxE57VrBuGFWNnnyO_LrB1s-tl3hPiFMgj2OuXSIl3KxHJhQJmI2gRDfam2TFR4vpuRSLzNJbsdca3mu4O5P8oAABqJfzAgTXPK2mExCUu-Z7BRzpINhMqqrEUln-W1w94yvCuaZ1o&amp;recommendedFlavor=IN_NETWORK&amp;refId=lC3fZ8%2BOil0oPKKL03koLA%3D%3D&amp;trackingId=OQXA3luuV%2FVhjh6e%2Fpvi5g%3D%3D&amp;trk=flagship3_search_srp_jobs</th>\n      <th>https://www.linkedin.com/jobs/view/3142889894/?eBP=CwEAAAGCoouzPYLgIGoLDtVAfof9LvO2P1alBqA1THYEyCCe55en_o0KYGXMxv6WbfqgVK_MgknSD1ijtBfjv3Urj2TL2b1fgVLWU--8eCr0HWpKgIOOgkmWFel4YWdJtgqztBlCp5i0pl15AEjfQLyAva8y5EV_MNtmpm_3zTsXM5_aXJcF9NOUFoU2RbCMutlQsPMHakTFM2kz3cZXtef5pAH8ipPUXHhJCufur9WyXqHLJ7qKrwoVsRT-AK34ph9bRUWU5dcNIbEHQbSNPaWr2G1tbQue8FP2W2gI1UX3I2zS5NmZJXaVG-E68Te7Sg3YWTfinyVMpZItIqS07W89DXI&amp;recommendedFlavor=SCHOOL_RECRUIT&amp;refId=FmgGMzrq0mbd8gIK9L1qXA%3D%3D&amp;trackingId=bHJxzAGZqw8wzunOAl9LdQ%3D%3D&amp;trk=flagship3_search_srp_jobs</th>\n      <th>https://www.linkedin.com/jobs/view/3216061552/?eBP=CwEAAAGCoouzPZgMMbS9U2-n9qUdecNHgMCgcxxWGJfpQwuGwbjDHaD0Y9I1bCfcESMyk3ilyB8SBAeGf3W5ukCC5UaZ4MrowXgqjohwYyAuhmMEJ-nPRMxISTuwokaOBRguFmDQ60yxeRhc_vSVXiufNIbxbO2PnEvsc-Ia9XizW7pvVfl4USGZeBk1A4Zz0i7hoy_gNI64-INwANk5m7ySb-8s0dwEJGhoCCupbZheu1WKVfbm19HCWosTIK8gEs-HAi8QGTIzKQQkBjdYY5V66dRd50CbYCBVyjlkFDSTp98O-xL4z7kqF3zRkj_h1vD0Dys8oKjExSKbw9s7NkuO&amp;recommendedFlavor=SKILL_ASSESSMENTS&amp;refId=FmgGMzrq0mbd8gIK9L1qXA%3D%3D&amp;trackingId=APORR1NYtfLa8iCrgRTZ5g%3D%3D&amp;trk=flagship3_search_srp_jobs</th>\n      <th>https://www.linkedin.com/jobs/view/3088349474/?eBP=CwEAAAGCoouzPUjMXyUcHkzhFQNYL_hmbdwV-VG51pozVjYfyCKveHGZu9j3N3UO2U4daBNFgZD3lVVL6-NAl6bJ1bcu5vB5q5ueL4kpcVXw0QpkJLsgjs5KQJCPiI3Kmqywtb8OPZ-Zzzcn57mAl1ziU-xoF2XVh9v3k2faG71KvDrCvP8CGoVCPQIzI71p-eN4Ee0QTllaWhdW_PYnWN9jH4YvKnDSkSQ9sQWY8W9jnfiQdWj2sw4-RQaxbjC3z7J_CdtxjgKYBJjYLQP8nsw80f6PLPTuHnaX4oJSpbO54SeCD-d6s6BmGZ1j6X2ld_OoYMIQth5JajIQF-gbx9rlc1quu15mfLnltHZgZRxtLx4oiZFWosv9p7KCAX5J&amp;recommendedFlavor=IN_NETWORK&amp;refId=FmgGMzrq0mbd8gIK9L1qXA%3D%3D&amp;trackingId=lCmwULMHB%2FRHiN5N61%2Ft0A%3D%3D&amp;trk=flagship3_search_srp_jobs</th>\n      <th>https://www.linkedin.com/jobs/view/3181261210/?eBP=CwEAAAGCoouzPWyjMDmUY0MfxYDvvXuKHOfYwlLksXgWUM08zdOUfvk_9aCb_SJ-ViEjlCYrhZbnOvybYvszSWZqOjHcbMQBFVp8Mo6B63IKsww17_NZS_1cSQYS07QDTC4IcVuA3Wt_p7K4LBRbSomXMx2rntMITtCi8jo8B3hfyrZ_emWaNWU1y_OnwOmInjXA_nuhpq_nEwa9yr1oTY4ylj6KUt-DPG04MQfShO7yi8ULAMfsyE2m8UvmJ9XZnY8BRbrheEyIqu1vf0L27GosXPTX-NudkVEFka33EozdloOY-yQbR1mUmRZsVFXhY0plztWsx6KBggIF01qVOEmRWlUqG81c3bcmkxCR8gQRYk2XWzBM9p5nTmh_B0aQ&amp;recommendedFlavor=SKILL_ASSESSMENTS&amp;refId=FmgGMzrq0mbd8gIK9L1qXA%3D%3D&amp;trackingId=W%2FffO7vA1vgsstWDO3C0dg%3D%3D&amp;trk=flagship3_search_srp_jobs</th>\n      <th>https://www.linkedin.com/jobs/view/3197190485/?eBP=JOB_SEARCH_ORGANIC&amp;recommendedFlavor=IN_NETWORK&amp;refId=FmgGMzrq0mbd8gIK9L1qXA%3D%3D&amp;trackingId=dsG%2F4ZNY%2BrrLAZBrilnqiw%3D%3D&amp;trk=flagship3_search_srp_jobs</th>\n      <th>https://www.linkedin.com/jobs/view/3202134351/?eBP=JOB_SEARCH_ORGANIC&amp;recommendedFlavor=SKILL_ASSESSMENTS&amp;refId=FmgGMzrq0mbd8gIK9L1qXA%3D%3D&amp;trackingId=0v8Klp8xwntIj9QNpwDBig%3D%3D&amp;trk=flagship3_search_srp_jobs</th>\n      <th>...</th>\n      <th>https://www.linkedin.com/jobs/view/3198234796/?eBP=JOB_SEARCH_ORGANIC&amp;recommendedFlavor=SKILL_ASSESSMENTS&amp;refId=UDxpvXk0cJ4Z%2BMU7VuPXUw%3D%3D&amp;trackingId=fZ7TDetqAduCQFbTrRQF%2Fg%3D%3D&amp;trk=flagship3_search_srp_jobs</th>\n      <th>https://www.linkedin.com/jobs/view/3213227272/?eBP=JOB_SEARCH_ORGANIC&amp;refId=UDxpvXk0cJ4Z%2BMU7VuPXUw%3D%3D&amp;trackingId=8THgC91wVsVWHCdJCCoyNg%3D%3D&amp;trk=flagship3_search_srp_jobs</th>\n      <th>https://www.linkedin.com/jobs/view/3202720497/?eBP=JOB_SEARCH_ORGANIC&amp;recommendedFlavor=SKILL_ASSESSMENTS&amp;refId=UDxpvXk0cJ4Z%2BMU7VuPXUw%3D%3D&amp;trackingId=i7vwYIe8b6BYNoHowm6F5g%3D%3D&amp;trk=flagship3_search_srp_jobs</th>\n      <th>https://www.linkedin.com/jobs/view/3071544870/?eBP=CwEAAAGCoperbAQdBo67rsbE6RpMpVTDIjXR5NKuUp-Uqx0gl_1prB3D29nlZWnIWb151dhWnXqm4qmYbRLZpbGMDfdoxgtkVCP-V_yZWPX0CxtLjYhH9GCuZUCwYU5SY05MDddOB9ACjqwIsT5B9xWTu0l8Dj7L50ZhjfEGXUvupx7IO6dkjH8ioopiyB4M74GEuyXJhOqOX4EKUMi6poiCPpXO4HIYbuHu3KNDWTC13J3kncjauIPtHMbexkxYfne4IwtDyk969O6al8lWJGUXdqrTscaNcTCdkjKfCqfrYWgQvwD-w39yZ97Tx7ecds5AcL5n019Wh8QjHZnSInuf63g&amp;recommendedFlavor=IN_NETWORK&amp;refId=ElEju5h1asDxpf%2BstQULpw%3D%3D&amp;trackingId=lTi5FapcY95mvMfrKfNI4Q%3D%3D&amp;trk=flagship3_search_srp_jobs</th>\n      <th>https://www.linkedin.com/jobs/view/3098442302/?eBP=CwEAAAGCoperbPVLoCWYEW4o-4no7zaJICgs8gYbi-kKSr2gtEUZgcvOPbqWRMwy4gM0OrZ4K3gd9w4THsPg-CymbdN9hnOqhvR7GOggh7Bhu8PHW3cFoH1016EQV2hjgH-4iwFVFvLD_5nWwA_aF4ETZsmDsPRVSwfNLULF-KPW29WbslbxgI_nH4hMfSnvZNuP84cMBDTRd5HDKQ3_m-fTPGov5iWSa6m44_AhEyOZjDwut0tNnttP5GYX0R6lStfSuP21FT8fak1gy56T4BEXUSS8gqqXedjSfkwNWI2XPHg0jXcTFxS9b-fRCaf6aBW3S-pLuO5vlwNX1RP4HxUYyg0EnA&amp;recommendedFlavor=SKILL_ASSESSMENTS&amp;refId=ElEju5h1asDxpf%2BstQULpw%3D%3D&amp;trackingId=dIM5OFZOcFgxGA%2FILzaNMw%3D%3D&amp;trk=flagship3_search_srp_jobs</th>\n      <th>https://www.linkedin.com/jobs/view/3194947617/?eBP=CwEAAAGCoperbC-ubncIGG41iiYpJy2trF0GEPgDwUwxxgaGIARVMDBafAyoGegchutmdhnWM-PndPocvinACAfU6ryQ0MK4VHHZv35MbbsKtLqizDQ4PDRiG3t3LpKEOJKIFSRf8sDANHSOVIqGcCiBaE57goW7h4MTtNA_UkfFbj6km5kAynUr4AFE3-8VvxnBYz-tdj8-22UIFDsD3V2_bLsvcxz4QsC9LHxAblMotb--o4mcvKkA45Upks2-IIUDFkQZBq6ThhbBS055GSioieb7MzvbFyRwFp85a7UA4ax5nbMhj9MopTCXCxRQDeQG0UqpWVn2nM4ix23MwiJU4jv617bldfaCGn0-RHJ31eJEuGBlUeitq4CxwsO-LPU&amp;recommendedFlavor=ACTIVELY_HIRING_COMPANY&amp;refId=ElEju5h1asDxpf%2BstQULpw%3D%3D&amp;trackingId=IUCgN5VXu1DZiTRffewdCA%3D%3D&amp;trk=flagship3_search_srp_jobs</th>\n      <th>https://www.linkedin.com/jobs/view/3186832601/?eBP=CwEAAAGCoperbGPwTYvbVEArgUBRKwq_4OB40MLWNDIPLkv-F_v6S1Jdwim8zW6-ykTe9tUTTeNXzg17TmqLmyD1GzeKE3zt7Y0kB6Ebm13Laj523TsztZA2vdHo_2HFTfa4YUCJu0sdQAgDBykjxYYy27sRsvgkIWnZRVER5LJtPSNzv6paurQ2wgZZVU3Qeza7qg4wWh3iVsRVmM6dRMHlCUfiu0HpUlEHeJiyFtOM7paKc9IA2iRt1oSl7GHj8Dd21N3qAurQ9Z_5UOsPIVXM9H0batnrTnE8ELrZzT_4PxxIJn1ODZe1qpwFEI0lZk8C8tTUnhtS0L4Faubi-QzCebW023oC&amp;recommendedFlavor=SCHOOL_RECRUIT&amp;refId=ElEju5h1asDxpf%2BstQULpw%3D%3D&amp;trackingId=rNz6Xbws%2BeIrwE%2B9Hf1VEg%3D%3D&amp;trk=flagship3_search_srp_jobs</th>\n      <th>https://www.linkedin.com/jobs/view/3215491566/?eBP=JOB_SEARCH_ORGANIC&amp;recommendedFlavor=SKILL_ASSESSMENTS&amp;refId=ElEju5h1asDxpf%2BstQULpw%3D%3D&amp;trackingId=gHyCjERXhWyQ2rjJpAsK8w%3D%3D&amp;trk=flagship3_search_srp_jobs</th>\n      <th>https://www.linkedin.com/jobs/view/3216025869/?eBP=JOB_SEARCH_ORGANIC&amp;recommendedFlavor=SKILL_ASSESSMENTS&amp;refId=ElEju5h1asDxpf%2BstQULpw%3D%3D&amp;trackingId=7vjiMX0zNQJNAOXkhFnhnQ%3D%3D&amp;trk=flagship3_search_srp_jobs</th>\n      <th>https://www.linkedin.com/jobs/view/2937191353/?eBP=CwEAAAGCoperbOSh216j-gePQjRyihTpSsUjziDrK7Su7BzLkoNaa_R8Li6_TSnyx5b1neG2VGczZf0bxNfOmIc21OiBfJAbM8YCgfDWmCk2FcCHk93NMYolGK9EC6idnh-Vs180ZmyAPGQm94EzjtCSGRf9iO55x46Gp1g8ADDM6P4rS8Ic3s7Z4JhVKozcnDw2bJTLan3c2iu4M1o1cW6GLzSdt__JuoBbQLh4rt8wPSdDVEiOO1pxekd_0Dtj9bk7FaXvD1IoxUAIXsIwXFrlsLWzWeWfzlt9hhOSFVztBsT6E0RbZBr1y9vzVEMGTVE2nJvoCUePllPol8Ttmtm5MMJJmpi_xLh-WWVcWNP2zPvDrCEYyKvubOKEN8WNTFI&amp;recommendedFlavor=ACTIVELY_HIRING_COMPANY&amp;refId=ElEju5h1asDxpf%2BstQULpw%3D%3D&amp;trackingId=YOcnweaHXZGLEZbpDyixEQ%3D%3D&amp;trk=flagship3_search_srp_jobs</th>\n    </tr>\n  </thead>\n  <tbody>\n    <tr>\n      <th>company</th>\n      <td>Masterworks</td>\n      <td>Gallagher Bassett</td>\n      <td>PwC</td>\n      <td>Apple</td>\n      <td>PwC</td>\n      <td>Capital One</td>\n      <td>Apple</td>\n      <td>Procter &amp; Gamble</td>\n      <td>Expedia Group</td>\n      <td>Cox Communications</td>\n      <td>...</td>\n      <td>Dropbox</td>\n      <td>ClearanceJobs</td>\n      <td>Roku Inc.</td>\n      <td>Amazon</td>\n      <td>S&amp;P Global</td>\n      <td>Discover Financial Services</td>\n      <td>Verizon</td>\n      <td>84.51˚</td>\n      <td>Kolter Solutions</td>\n      <td>Jungle Scout</td>\n    </tr>\n    <tr>\n      <th>location</th>\n      <td>New York City Metropolitan Area</td>\n      <td>Rolling Meadows, IL</td>\n      <td>Austin, TX</td>\n      <td>Austin, TX</td>\n      <td>Charlotte, NC</td>\n      <td>Richmond, VA</td>\n      <td>Austin, TX</td>\n      <td>Mason, OH</td>\n      <td>Austin, TX</td>\n      <td>Atlanta, GA</td>\n      <td>...</td>\n      <td>Raleigh, NC</td>\n      <td>Alexandria, VA</td>\n      <td>New York, NY</td>\n      <td>Seattle, WA</td>\n      <td>United, LA</td>\n      <td>Home Creek, VA</td>\n      <td>Basking Ridge, NJ</td>\n      <td>Cincinnati, OH</td>\n      <td>Lakeland, FL</td>\n      <td>Austin, TX</td>\n    </tr>\n    <tr>\n      <th>role</th>\n      <td>VP, Data Science</td>\n      <td>Data Science</td>\n      <td>Data Science &amp; Machine Learning SA w/ Conversational AI</td>\n      <td>Applied Scientist, AMP Data Science and Analytics - Austin</td>\n      <td>Data Science &amp; Machine Learning SA w/ Conversational AI</td>\n      <td>Principal Associate, Data Science - Anti Money Laundering</td>\n      <td>Data Science Engineer - Strategic Data Solutions</td>\n      <td>R&amp;D Data Science</td>\n      <td>Data Scientist III, Product Analytics</td>\n      <td>Data Scientist I or II</td>\n      <td>...</td>\n      <td>Data Engineer, Finance</td>\n      <td>Tech Excellence Data Scientist, Junior with Security Clearance</td>\n      <td>Senior Data Scientist, Merchandising</td>\n      <td>Security Engineer - Security Data Science SDS</td>\n      <td>Senior Data Engineer - Data Pipelines &amp; Data Science Platforms</td>\n      <td>Principal Data Science</td>\n      <td>Senior Engineer - Data Science</td>\n      <td>Data Engineer (P1969)</td>\n      <td>Data Scientist</td>\n      <td>Senior Manager, Data Science</td>\n    </tr>\n    <tr>\n      <th>description</th>\n      <td>Company Overview:\\n\\nMasterworks is a fintech platform that allows anyone to invest in...</td>\n      <td>NaN</td>\n      <td>Specialty/Competency: Data, Analytics &amp; AI\\n\\nIndustry/Sector: Not Applicable\\n\\nTime ...</td>\n      <td>NaN</td>\n      <td>Specialty/Competency: Data, Analytics &amp; AI\\n\\nIndustry/Sector: Not Applicable\\n\\nTime ...</td>\n      <td>NaN</td>\n      <td>Summary\\n\\nAre you ready to apply your educational experience to real-world problems? ...</td>\n      <td>NaN</td>\n      <td>NaN</td>\n      <td>Job Description\\n\\nJob Posting Title: Data Scientist II\\n\\nDescription\\n\\nRole Summary...</td>\n      <td>...</td>\n      <td>NaN</td>\n      <td>NaN</td>\n      <td>NaN</td>\n      <td>NaN</td>\n      <td>NaN</td>\n      <td>NaN</td>\n      <td>NaN</td>\n      <td>NaN</td>\n      <td>NaN</td>\n      <td>NaN</td>\n    </tr>\n    <tr>\n      <th>education</th>\n      <td>41% have a Master's Degree\\n26% have a Doctor of Philosophy\\n24% have a Master of Busi...</td>\n      <td>NaN</td>\n      <td>22% have a Bachelor's Degree (Similar to you)\\n44% have a Master's Degree\\n11% have a ...</td>\n      <td>NaN</td>\n      <td>25% have a Master's Degree\\n25% have a Doctor of Philosophy\\n25% have a Associate's De...</td>\n      <td>NaN</td>\n      <td>18% have a Bachelor's Degree (Similar to you)\\n73% have a Master's Degree\\n5% have a D...</td>\n      <td>NaN</td>\n      <td>NaN</td>\n      <td>18% have a Bachelor's Degree (Similar to you)\\n75% have a Master's Degree\\n8% have a D...</td>\n      <td>...</td>\n      <td>NaN</td>\n      <td>NaN</td>\n      <td>NaN</td>\n      <td>NaN</td>\n      <td>NaN</td>\n      <td>NaN</td>\n      <td>NaN</td>\n      <td>NaN</td>\n      <td>NaN</td>\n      <td>NaN</td>\n    </tr>\n  </tbody>\n</table>\n<p>5 rows × 263 columns</p>\n</div>"
     },
     "execution_count": 153,
     "metadata": {},
     "output_type": "execute_result"
    }
   ],
   "source": [
    "# 1st run result dataframe\n",
    "newdf"
   ],
   "metadata": {
    "collapsed": false,
    "pycharm": {
     "name": "#%%\n"
    }
   }
  },
  {
   "cell_type": "code",
   "execution_count": 156,
   "outputs": [
    {
     "data": {
      "text/plain": "company          0\nlocation         0\nrole             0\ndescription    214\neducation      214\ndtype: int64"
     },
     "execution_count": 156,
     "metadata": {},
     "output_type": "execute_result"
    }
   ],
   "source": [
    "# 1st run result dataframe - Checking null values\n",
    "newdf.T.isnull().sum()"
   ],
   "metadata": {
    "collapsed": false,
    "pycharm": {
     "name": "#%%\n"
    }
   }
  },
  {
   "cell_type": "code",
   "execution_count": null,
   "outputs": [],
   "source": [
    "# Store data locally\n",
    "newdf2.to_csv('jobs.csv')"
   ],
   "metadata": {
    "collapsed": false,
    "pycharm": {
     "name": "#%%\n"
    }
   }
  }
 ],
 "metadata": {
  "kernelspec": {
   "display_name": "Python 3 (ipykernel)",
   "language": "python",
   "name": "python3"
  },
  "language_info": {
   "codemirror_mode": {
    "name": "ipython",
    "version": 3
   },
   "file_extension": ".py",
   "mimetype": "text/x-python",
   "name": "python",
   "nbconvert_exporter": "python",
   "pygments_lexer": "ipython3",
   "version": "3.9.12"
  }
 },
 "nbformat": 4,
 "nbformat_minor": 5
}