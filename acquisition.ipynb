{
 "cells": [
  {
   "cell_type": "code",
   "execution_count": 5,
   "id": "9766d556",
   "metadata": {
    "pycharm": {
     "name": "#%%\n"
    }
   },
   "outputs": [],
   "source": [
    "from imports import *\n",
    "from bs4 import BeautifulSoup\n",
    "from selenium import webdriver\n",
    "from selenium.webdriver.common.keys import Keys\n",
    "from selenium.webdriver.common.by import By\n",
    "from selenium.webdriver.support.wait import WebDriverWait\n",
    "from selenium.webdriver.support import expected_conditions as EC\n",
    "import time\n",
    "import numpy as np"
   ]
  },
  {
   "cell_type": "code",
   "execution_count": 4,
   "id": "87fdb6e8",
   "metadata": {
    "pycharm": {
     "name": "#%%\n"
    }
   },
   "outputs": [
    {
     "ename": "ModuleNotFoundError",
     "evalue": "No module named 'webdriver_manager'",
     "output_type": "error",
     "traceback": [
      "\u001B[0;31m---------------------------------------------------------------------------\u001B[0m",
      "\u001B[0;31mModuleNotFoundError\u001B[0m                       Traceback (most recent call last)",
      "\u001B[0;32m<ipython-input-4-6cae888399d0>\u001B[0m in \u001B[0;36m<module>\u001B[0;34m\u001B[0m\n\u001B[0;32m----> 1\u001B[0;31m \u001B[0;32mfrom\u001B[0m \u001B[0mwebdriver_manager\u001B[0m\u001B[0;34m.\u001B[0m\u001B[0mchrome\u001B[0m \u001B[0;32mimport\u001B[0m \u001B[0mChromeDriverManager\u001B[0m\u001B[0;34m\u001B[0m\u001B[0;34m\u001B[0m\u001B[0m\n\u001B[0m\u001B[1;32m      2\u001B[0m \u001B[0;34m\u001B[0m\u001B[0m\n\u001B[1;32m      3\u001B[0m \u001B[0mdriver\u001B[0m \u001B[0;34m=\u001B[0m \u001B[0mwebdriver\u001B[0m\u001B[0;34m.\u001B[0m\u001B[0mChrome\u001B[0m\u001B[0;34m(\u001B[0m\u001B[0mChromeDriverManager\u001B[0m\u001B[0;34m(\u001B[0m\u001B[0;34m)\u001B[0m\u001B[0;34m.\u001B[0m\u001B[0minstall\u001B[0m\u001B[0;34m(\u001B[0m\u001B[0;34m)\u001B[0m\u001B[0;34m)\u001B[0m\u001B[0;34m\u001B[0m\u001B[0;34m\u001B[0m\u001B[0m\n",
      "\u001B[0;31mModuleNotFoundError\u001B[0m: No module named 'webdriver_manager'"
     ]
    }
   ],
   "source": [
    "# from webdriver_manager.chrome import ChromeDriverManager\n",
    "#\n",
    "# driver = webdriver.Chrome(ChromeDriverManager().install())"
   ]
  },
  {
   "cell_type": "code",
   "execution_count": 4,
   "id": "21239ccc",
   "metadata": {
    "pycharm": {
     "name": "#%%\n"
    }
   },
   "outputs": [],
   "source": [
    "# # Log in to LinkedIn\n",
    "# def login(driver, p)\n",
    "# url = \"https://www.linkedin.com/checkpoint/rm/sign-in-another-account?fromSignIn=true&trk=guest_homepage-basic_nav-header-signin\"\n",
    "# # Wait support - number of seconds before timing out\n",
    "# wait = WebDriverWait(driver, 10)\n",
    "# driver.get(url)\n",
    "# username = driver.find_element_by_id(\"username\")\n",
    "# username.send_keys(\"wang.meredith09@gmail.com\")\n",
    "# password = driver.find_element_by_id(\"password\")\n",
    "# password.send_keys(p)\n",
    "# driver.find_element_by_class_name(\"login__form_action_container\").click()"
   ]
  },
  {
   "cell_type": "code",
   "execution_count": 127,
   "id": "33051ed8",
   "metadata": {
    "pycharm": {
     "name": "#%%\n"
    }
   },
   "outputs": [],
   "source": [
    "# Log into linkedin\n",
    "def login(driver, password):\n",
    "    url =  'https://www.linkedin.com/checkpoint/rm/sign-in-another-account?fromSignIn=true&trk=guest_homepage-basic_nav-header-signin'\n",
    "    wait = WebDriverWait(driver, 10)\n",
    "    driver.get(url)\n",
    "  \n",
    "    driver.find_element(\"xpath\",'/html/body/div/main/div[2]/div[1]/form/div[1]/input').send_keys('wang.meredith09@gmail.com')\n",
    "    driver.find_element(\"xpath\",'/html/body/div/main/div[2]/div[1]/form/div[2]/input').send_keys(password)\n",
    "    driver.find_element(\"xpath\",'/html/body/div/main/div[2]/div[1]/form/div[3]').click()\n",
    "\n",
    "# Redirects driver to the query link\n",
    "def search(driver):\n",
    "    time.sleep(5)\n",
    "    driver.get(\"https://www.linkedin.com/jobs/search/?keywords=data%20science\")\n",
    "\n",
    "# Grab the number of results that were fetched\n",
    "def get_n_results(driver):\n",
    "    time.sleep(10)\n",
    "    results_div = driver.find_element(\"xpath\",'/html/body/div[4]/div[3]/div[4]/div/div/main/div/section[1]/header/div[1]/small')\n",
    "    n_string = results_div.text\n",
    "    n = int(n_string.split()[0].replace(',',\"\"))\n",
    "    return n \n",
    "\n",
    "#Finds job ul div\n",
    "def get_jobs(driver):\n",
    "    ul_div = driver.find_element(\"xpath\",'/html/body/div[4]/div[3]/div[4]/div/div/main/div/section[1]/div/ul')\n",
    "    return ul_div\n",
    "\n",
    "\n",
    "#Scrolls to properly load page\n",
    "def scroll_down(driver):\n",
    "    for i in np.linspace(0,1,10):\n",
    "        time.sleep(2)\n",
    "        # Excute JavaScript\n",
    "        # driver.execute_script(\"window.scrollTo(0,document.body.scrollHeight)\")\n",
    "        driver.execute_script(f\"window.scrollTo(0,document.body.scrollHeight*{i})\")\n",
    "\n",
    "def get_job_urls(jobs,driver,job_urls = {}):\n",
    "    i = 1\n",
    "    while True: \n",
    "        try:\n",
    "\n",
    "            WebDriverWait(driver, 1).until(EC.presence_of_element_located((By.XPATH,f'/html/body/div[4]/div[3]/div[4]/div/div/main/div/section[1]/div/ul/li[{i}]')))\n",
    "            url = jobs.find_element(\"xpath\",f'/html/body/div[4]/div[3]/div[4]/div/div/main/div/section[1]/div/ul/li[{i}]/div/div[1]/div[1]/div[2]/div[1]/a').get_attribute(\"href\")\n",
    "            role = jobs.find_element(\"xpath\",f'/html/body/div[4]/div[3]/div[4]/div/div/main/div/section[1]/div/ul/li[{i}]/div/div[1]/div[1]/div[2]/div[1]/a').text\n",
    "            company = jobs.find_element(\"xpath\",f'/html/body/div[4]/div[3]/div[4]/div/div/main/div/section[1]/div/ul/li[{i}]/div/div[1]/div[1]/div[2]/div[2]/a').text\n",
    "            location = driver.find_element(\"xpath\",f'/html/body/div[4]/div[3]/div[4]/div/div/main/div/section[1]/div/ul/li[{i}]/div/div[1]/div[1]/div[2]/div[3]/ul/li').text\n",
    "            job_urls.update({url:{'company':company,'location':location,'role':role}})\n",
    "            i+=1\n",
    "        except:\n",
    "            return job_urls\n",
    "\n",
    "def load_next_page(driver):\n",
    "    curr= driver.find_element(\"xpath\",'//*[@aria-current=\"true\"]').text\n",
    "    next = driver.find_element(\"xpath\",f'//*[@aria-label=\"Page {int(curr)+1}\"]')\n",
    "    next.click()\n",
    "\n",
    "def get_description(driver,job_dict):\n",
    "    good = []\n",
    "    fail = []\n",
    "  #Iterate through the url list to scrape the descriptions\n",
    "    for url in list(job_dict.keys()):\n",
    "        if url not in good:\n",
    "            try:\n",
    "                driver.get(url)\n",
    "                time.sleep(3)\n",
    "                if driver.current_url != url:\n",
    "                    print(f'failed at {url}')\n",
    "                    #remove broken urls\n",
    "                    job_dict.pop(url)\n",
    "                #scrape\n",
    "                driver.find_element(\"xpath\",'//*[@aria-label=\"Click to see more description\"]').click()\n",
    "                WebDriverWait(driver, 1).until(EC.presence_of_element_located((By.XPATH,'/html/body/div[5]/div[3]/div/div[1]/div[1]/div/div[2]/article/div/div[1]')))\n",
    "                description = driver.find_element(\"xpath\",'/html/body/div[5]/div[3]/div/div[1]/div[1]/div/div[2]/article/div/div[1]').text\n",
    "\n",
    "                # time.sleep(3)\n",
    "                job_dict.get(url).update({\"description\":description})\n",
    "                time.sleep(6)\n",
    "                good.append(url)\n",
    "                return job_dict\n",
    "            except:\n",
    "                #keep going if there is a random error in which a div did not load properly but check where we failed\n",
    "                print(f\"fail {job_dict.get(url)}\")\n",
    "                fail.append(url)\n",
    "\n",
    "def get_skills(driver,job_dict):\n",
    "    good = []\n",
    "    fail = []\n",
    "    #Iterate through the url list to scrape the descriptions\n",
    "    for url in list(job_dict.keys()):\n",
    "        if url not in good:\n",
    "            try:\n",
    "                driver.get(url)\n",
    "                time.sleep(2)\n",
    "                if driver.current_url != url:\n",
    "                    print(f'failed at {url}')\n",
    "                    #remove broken urls\n",
    "                    job_dict.pop(url)\n",
    "                #scrape\n",
    "                skill_list = driver.find_element(\"xpath\", '/html/body/div[5]/div[3]/div/div[1]/div[1]/div/div[6]/div/div[1]/div[2]/div[2]/ul')\n",
    "                skills = skill_list.find_elements(By.TAG_NAME, \"li\")\n",
    "                # if len(skills) > 0:\n",
    "                # i = 1\n",
    "                skill = []\n",
    "                # while True:\n",
    "                #     try:\n",
    "                #         # WebDriverWait(driver, 1).until(EC.presence_of_element_located((By.XPATH,f'/html/body/div[5]/div[3]/div/div[1]/div[1]/div/div[6]/div/div[1]/div[2]/div[2]/ul/li[{i}]')))\n",
    "                #         skillname = driver.find_element(\"xpath\",f'/html/body/div[5]/div[3]/div/div[1]/div[1]/div/div[6]/div/div[1]/div[2]/div[2]/ul/li[{i}]/p').text\n",
    "                #         job_dict.get(url).update({\"skills\":skillname})\n",
    "                #         i+=1\n",
    "                #         good.append(url)\n",
    "                #     except:\n",
    "                #         return job_dict\n",
    "                for i in skills:\n",
    "                    skill = i.find_elements(\"xpath\", f'//*[@id=\"ember95\"]/div/div[1]/div[2]/div[2]/ul/li[{i}]/p').text\n",
    "                    job_dict.get(url).update({\"skills\":skill})\n",
    "                    good.append(url)\n",
    "                return job_dict\n",
    "            except:\n",
    "                #keep going if there is a random error in which a div did not load properly but check where we failed\n",
    "                print(f\"fail{job_dict.get(url)}\")\n",
    "                fail.append(url)"
   ]
  },
  {
   "cell_type": "code",
   "execution_count": 128,
   "id": "ab01a8c7",
   "metadata": {
    "pycharm": {
     "name": "#%%\n"
    }
   },
   "outputs": [],
   "source": [
    "def main(driver,password):\n",
    "    login(driver, password)\n",
    "    search(driver)\n",
    "    n = get_n_results(driver)\n",
    "    job_dict = {}\n",
    "    #iterate through the amount of pages given\n",
    "    for i in range(2):\n",
    "        jobs = get_jobs(driver)\n",
    "        scroll_down(driver)\n",
    "        get_job_urls(jobs,driver,job_urls = job_dict)\n",
    "        time.sleep(1)\n",
    "        load_next_page(driver)\n",
    "    get_description(driver,job_dict)\n",
    "    df = pd.DataFrame(job_dict)\n",
    "    # return get_description(driver,job_dict,good)\n",
    "    return df"
   ]
  },
  {
   "cell_type": "code",
   "execution_count": 109,
   "outputs": [
    {
     "data": {
      "text/plain": "str"
     },
     "execution_count": 109,
     "metadata": {},
     "output_type": "execute_result"
    }
   ],
   "source": [
    "secret_file = open(\"env.txt\", \"r\")\n",
    "password = secret_file.read()\n",
    "type(password)"
   ],
   "metadata": {
    "collapsed": false,
    "pycharm": {
     "name": "#%%\n"
    }
   }
  },
  {
   "cell_type": "code",
   "execution_count": 129,
   "id": "bf6ec68b",
   "metadata": {
    "pycharm": {
     "name": "#%%\n"
    }
   },
   "outputs": [
    {
     "data": {
      "text/plain": "            https://www.linkedin.com/jobs/view/3077903474/?eBP=CwEAAAGColhfNJMp17SzMSo5M5Wmik-5O4YQw9OTpk5iVxvwOqYVbafoF18GEvRyg3OdzkYQzK_IxJdhl9fcpWDhLz6-sVeUm5vW9G2V8LmdxDhR8MR5qGAgP8HIOKoS6fkUI4ph7gth1kspf-7yRntBi-TCoMbzocRWLiHlzLH8_WaBDeqkTyfNTB0PTMgHyHaiRKcB8nOvAZUtCaMu68PghPGaZNSJpYXpvfUwf9TbR66Zv28rTYtiIb-QTEz8_viRCZ5ETzhiGXpeTOSkHYoHSTylavEEBlvIXalE9RdfEcbkB_FVuDk_BhkGVqfoOzLy8MxDylJK-f5cp_qeP-q2ZnQ_HORXIefuykP4FciXbiGoNXxZpOXvtp4uXuzNeWu89WGm&recommendedFlavor=IN_NETWORK&refId=PRVd%2BzVmGEJZrC%2Fl7gKttA%3D%3D&trackingId=Zp9a2HdbcQBA1PGqHwqnwQ%3D%3D&trk=flagship3_search_srp_jobs  \\\ncompany                                                                                          Apple                                                                                                                                                                                                                                                                                                                                                                                                                                                                                                              \nlocation                                                                                    Austin, TX                                                                                                                                                                                                                                                                                                                                                                                                                                                                                                              \nrole                                        Applied Scientist, AMP Data Science and Analytics - Austin                                                                                                                                                                                                                                                                                                                                                                                                                                                                                                              \ndescription  About the job\\n\\nSummary\\n\\nServices at Apple help hundreds of millions of customers g...                                                                                                                                                                                                                                                                                                                                                                                                                                                                                                              \n\n            https://www.linkedin.com/jobs/view/3142891690/?eBP=CwEAAAGColhfNLl7mcshL_T2Z2YA7D1o4fDxd6eoliyhtAbLFo_Ne_zW8mWSTEiGD3FaenH_0MkFCt-Dxbxt-BtN4MxPtcrABEmPtjh3ZZJWTrr60zisTJ9p3fJBZpse7bjJqWZ1NexZQDUkVGUzXfdfHxKY3laRY1n5vv3FMGtltaBGRjlYSN43ke5z9xUCwnzQsefeNEhRD2pfvpGqwmyZABq-dYkkIxDIB2y4yNdcdQWTHZpX_ufy1Z1Y7hKekhS1i5HzoC6KWBdQEqTu6gzM_npd_n0Zm7G-9F53xViJLWs_Z_hQEz76vexmi5Pih27FwKPbjHPH8LeniEi_UWgOex0cUzwe8Hwg4VCB8kH4gCGhvllS7drwFrpvviSqqYGjyQ&recommendedFlavor=SKILL_ASSESSMENTS&refId=PRVd%2BzVmGEJZrC%2Fl7gKttA%3D%3D&trackingId=MG%2F%2BVtshQyVH0YxV8zxGSQ%3D%3D&trk=flagship3_search_srp_jobs  \\\ncompany                                                                                            PwC                                                                                                                                                                                                                                                                                                                                                                                                                                                                                                                       \nlocation                                                                                    Austin, TX                                                                                                                                                                                                                                                                                                                                                                                                                                                                                                                       \nrole                                           Data Science & Machine Learning SA w/ Conversational AI                                                                                                                                                                                                                                                                                                                                                                                                                                                                                                                       \ndescription                                                                                        NaN                                                                                                                                                                                                                                                                                                                                                                                                                                                                                                                       \n\n            https://www.linkedin.com/jobs/view/3209804028/?eBP=CwEAAAGColhfNBClSZQcuNKGSjTjOsFC2v3Yp7nO6zN38nC7ivo1qjMrcOIE83kCfz43776enr3lh5z7I1p53yNHHaXbM4jABOqk4EZupf-FdyhXf2NagNpCAopDdxbmoLJ30Hub5HKIn-3oILOc53otTe_FUp6Sv9CJkKBCErlniCIE0yAzXtE5ff56F2gTnBz1BooQvOSs3c5mj_c34M9mlTwz4L2zwq5zY8OKUydocPewZMqEMxLhbuWuA6V0S2kpfCyHUlM3uHgMi6Mgq4Qsj0DQWq-GlbzoWy-yQhSSTV1wML2tC3nGbJFk3JSXWGzkH9X99EltcQrYMcIPofaeo0j_1nbVlKHMMpbujBpBI0fN0Wsb_dza6SIIcoWGft8ORw&recommendedFlavor=PRE_SCREENING_QUESTIONS&refId=PRVd%2BzVmGEJZrC%2Fl7gKttA%3D%3D&trackingId=KslVnGfN7iH0E5mZ4%2Bi4hA%3D%3D&trk=flagship3_search_srp_jobs  \\\ncompany                                                                                    Masterworks                                                                                                                                                                                                                                                                                                                                                                                                                                                                                                                           \nlocation                                                               New York City Metropolitan Area                                                                                                                                                                                                                                                                                                                                                                                                                                                                                                                           \nrole                                                                                  VP, Data Science                                                                                                                                                                                                                                                                                                                                                                                                                                                                                                                           \ndescription                                                                                        NaN                                                                                                                                                                                                                                                                                                                                                                                                                                                                                                                           \n\n            https://www.linkedin.com/jobs/view/3217305449/?eBP=CwEAAAGColhfNApkOgHhZHABm5UMx0JduJP8jX9tGP1yj5vILABCgEv-Xn_yLweTC6-OltzfMQ1svdwXcNmbQ87VSNPi6uKMocXdckYwcPXSjGTZ_wzHyBOBW07p9AWEoSumP5ESt_aylU_KpzUhEDq6tocPTNiflzaiGCyNBBJ3MMgNqhm3zDqpforV4GJmVHUKzAED50rNzaoScpVhdWFMWrVGbyqODAzVE-EWKw7NwfJ_S2OoG0Izy7HknYEKza-yWh9K55ioDLPnY5wj52bVqhQNOHONBH1OS7EByRaEAUUABo6tHEiYtnWZSUPdEkduTKegDR4kxN8Xsq8PsrDf2I0fmUNsVBlGRSg8jcLI1jGol8pNc1UgLUfajf_s7Cc&recommendedFlavor=SKILL_ASSESSMENTS&refId=PRVd%2BzVmGEJZrC%2Fl7gKttA%3D%3D&trackingId=w1Ky03OM%2B%2FC5w1K%2Fcrw9Pg%3D%3D&trk=flagship3_search_srp_jobs  \ncompany                                                                                Cardinal Health                                                                                                                                                                                                                                                                                                                                                                                                                                                                                                                     \nlocation                                                                        Georgia, United States                                                                                                                                                                                                                                                                                                                                                                                                                                                                                                                     \nrole                                                         Senior Analyst, Data Science - Nationwide                                                                                                                                                                                                                                                                                                                                                                                                                                                                                                                     \ndescription                                                                                        NaN                                                                                                                                                                                                                                                                                                                                                                                                                                                                                                                     ",
      "text/html": "<div>\n<style scoped>\n    .dataframe tbody tr th:only-of-type {\n        vertical-align: middle;\n    }\n\n    .dataframe tbody tr th {\n        vertical-align: top;\n    }\n\n    .dataframe thead th {\n        text-align: right;\n    }\n</style>\n<table border=\"1\" class=\"dataframe\">\n  <thead>\n    <tr style=\"text-align: right;\">\n      <th></th>\n      <th>https://www.linkedin.com/jobs/view/3077903474/?eBP=CwEAAAGColhfNJMp17SzMSo5M5Wmik-5O4YQw9OTpk5iVxvwOqYVbafoF18GEvRyg3OdzkYQzK_IxJdhl9fcpWDhLz6-sVeUm5vW9G2V8LmdxDhR8MR5qGAgP8HIOKoS6fkUI4ph7gth1kspf-7yRntBi-TCoMbzocRWLiHlzLH8_WaBDeqkTyfNTB0PTMgHyHaiRKcB8nOvAZUtCaMu68PghPGaZNSJpYXpvfUwf9TbR66Zv28rTYtiIb-QTEz8_viRCZ5ETzhiGXpeTOSkHYoHSTylavEEBlvIXalE9RdfEcbkB_FVuDk_BhkGVqfoOzLy8MxDylJK-f5cp_qeP-q2ZnQ_HORXIefuykP4FciXbiGoNXxZpOXvtp4uXuzNeWu89WGm&amp;recommendedFlavor=IN_NETWORK&amp;refId=PRVd%2BzVmGEJZrC%2Fl7gKttA%3D%3D&amp;trackingId=Zp9a2HdbcQBA1PGqHwqnwQ%3D%3D&amp;trk=flagship3_search_srp_jobs</th>\n      <th>https://www.linkedin.com/jobs/view/3142891690/?eBP=CwEAAAGColhfNLl7mcshL_T2Z2YA7D1o4fDxd6eoliyhtAbLFo_Ne_zW8mWSTEiGD3FaenH_0MkFCt-Dxbxt-BtN4MxPtcrABEmPtjh3ZZJWTrr60zisTJ9p3fJBZpse7bjJqWZ1NexZQDUkVGUzXfdfHxKY3laRY1n5vv3FMGtltaBGRjlYSN43ke5z9xUCwnzQsefeNEhRD2pfvpGqwmyZABq-dYkkIxDIB2y4yNdcdQWTHZpX_ufy1Z1Y7hKekhS1i5HzoC6KWBdQEqTu6gzM_npd_n0Zm7G-9F53xViJLWs_Z_hQEz76vexmi5Pih27FwKPbjHPH8LeniEi_UWgOex0cUzwe8Hwg4VCB8kH4gCGhvllS7drwFrpvviSqqYGjyQ&amp;recommendedFlavor=SKILL_ASSESSMENTS&amp;refId=PRVd%2BzVmGEJZrC%2Fl7gKttA%3D%3D&amp;trackingId=MG%2F%2BVtshQyVH0YxV8zxGSQ%3D%3D&amp;trk=flagship3_search_srp_jobs</th>\n      <th>https://www.linkedin.com/jobs/view/3209804028/?eBP=CwEAAAGColhfNBClSZQcuNKGSjTjOsFC2v3Yp7nO6zN38nC7ivo1qjMrcOIE83kCfz43776enr3lh5z7I1p53yNHHaXbM4jABOqk4EZupf-FdyhXf2NagNpCAopDdxbmoLJ30Hub5HKIn-3oILOc53otTe_FUp6Sv9CJkKBCErlniCIE0yAzXtE5ff56F2gTnBz1BooQvOSs3c5mj_c34M9mlTwz4L2zwq5zY8OKUydocPewZMqEMxLhbuWuA6V0S2kpfCyHUlM3uHgMi6Mgq4Qsj0DQWq-GlbzoWy-yQhSSTV1wML2tC3nGbJFk3JSXWGzkH9X99EltcQrYMcIPofaeo0j_1nbVlKHMMpbujBpBI0fN0Wsb_dza6SIIcoWGft8ORw&amp;recommendedFlavor=PRE_SCREENING_QUESTIONS&amp;refId=PRVd%2BzVmGEJZrC%2Fl7gKttA%3D%3D&amp;trackingId=KslVnGfN7iH0E5mZ4%2Bi4hA%3D%3D&amp;trk=flagship3_search_srp_jobs</th>\n      <th>https://www.linkedin.com/jobs/view/3217305449/?eBP=CwEAAAGColhfNApkOgHhZHABm5UMx0JduJP8jX9tGP1yj5vILABCgEv-Xn_yLweTC6-OltzfMQ1svdwXcNmbQ87VSNPi6uKMocXdckYwcPXSjGTZ_wzHyBOBW07p9AWEoSumP5ESt_aylU_KpzUhEDq6tocPTNiflzaiGCyNBBJ3MMgNqhm3zDqpforV4GJmVHUKzAED50rNzaoScpVhdWFMWrVGbyqODAzVE-EWKw7NwfJ_S2OoG0Izy7HknYEKza-yWh9K55ioDLPnY5wj52bVqhQNOHONBH1OS7EByRaEAUUABo6tHEiYtnWZSUPdEkduTKegDR4kxN8Xsq8PsrDf2I0fmUNsVBlGRSg8jcLI1jGol8pNc1UgLUfajf_s7Cc&amp;recommendedFlavor=SKILL_ASSESSMENTS&amp;refId=PRVd%2BzVmGEJZrC%2Fl7gKttA%3D%3D&amp;trackingId=w1Ky03OM%2B%2FC5w1K%2Fcrw9Pg%3D%3D&amp;trk=flagship3_search_srp_jobs</th>\n    </tr>\n  </thead>\n  <tbody>\n    <tr>\n      <th>company</th>\n      <td>Apple</td>\n      <td>PwC</td>\n      <td>Masterworks</td>\n      <td>Cardinal Health</td>\n    </tr>\n    <tr>\n      <th>location</th>\n      <td>Austin, TX</td>\n      <td>Austin, TX</td>\n      <td>New York City Metropolitan Area</td>\n      <td>Georgia, United States</td>\n    </tr>\n    <tr>\n      <th>role</th>\n      <td>Applied Scientist, AMP Data Science and Analytics - Austin</td>\n      <td>Data Science &amp; Machine Learning SA w/ Conversational AI</td>\n      <td>VP, Data Science</td>\n      <td>Senior Analyst, Data Science - Nationwide</td>\n    </tr>\n    <tr>\n      <th>description</th>\n      <td>About the job\\n\\nSummary\\n\\nServices at Apple help hundreds of millions of customers g...</td>\n      <td>NaN</td>\n      <td>NaN</td>\n      <td>NaN</td>\n    </tr>\n  </tbody>\n</table>\n</div>"
     },
     "execution_count": 129,
     "metadata": {},
     "output_type": "execute_result"
    }
   ],
   "source": [
    "driver = webdriver.Chrome('/Users/williambaldridge/linkedin-data-science-project/chromedriver')\n",
    "secret_file = open(\"env.txt\", \"r\")\n",
    "password = secret_file.read()\n",
    "main(driver,password)\n",
    "\n",
    "# driver.quit()"
   ]
  },
  {
   "cell_type": "code",
   "execution_count": null,
   "outputs": [],
   "source": [
    "About the job\\nCompany Overview:\\n\\nMasterworks is a fintech platform that allows anyone to invest in shares of SEC-qualified blue-chip paintings by names like Banksy, Monet, and Picasso. So far, ...\n",
    "About the job\\n\\nSummary\\n\\nServices at Apple help hundreds of millions of customers get the most out of the devices they love through amazing apps, award-winning shows and movies, immersive music...\n",
    "About the job\\n\\nSummary\\n\\nServices at Apple help hundreds of millions of customers get the most out of the devices they love through amazing apps, award-winning shows and movies, immersive music..."
   ],
   "metadata": {
    "collapsed": false,
    "pycharm": {
     "name": "#%%\n"
    }
   }
  }
 ],
 "metadata": {
  "kernelspec": {
   "display_name": "Python 3 (ipykernel)",
   "language": "python",
   "name": "python3"
  },
  "language_info": {
   "codemirror_mode": {
    "name": "ipython",
    "version": 3
   },
   "file_extension": ".py",
   "mimetype": "text/x-python",
   "name": "python",
   "nbconvert_exporter": "python",
   "pygments_lexer": "ipython3",
   "version": "3.9.12"
  }
 },
 "nbformat": 4,
 "nbformat_minor": 5
}