{
 "cells": [
  {
   "cell_type": "code",
   "execution_count": 5,
   "id": "9766d556",
   "metadata": {
    "pycharm": {
     "name": "#%%\n"
    }
   },
   "outputs": [],
   "source": [
    "from imports import *\n",
    "from bs4 import BeautifulSoup\n",
    "from selenium import webdriver\n",
    "from selenium.webdriver.common.keys import Keys\n",
    "from selenium.webdriver.common.by import By\n",
    "from selenium.webdriver.support.wait import WebDriverWait\n",
    "from selenium.webdriver.support import expected_conditions as EC\n",
    "import time\n",
    "import numpy as np"
   ]
  },
  {
   "cell_type": "code",
   "execution_count": 4,
   "id": "87fdb6e8",
   "metadata": {
    "pycharm": {
     "name": "#%%\n"
    }
   },
   "outputs": [
    {
     "ename": "ModuleNotFoundError",
     "evalue": "No module named 'webdriver_manager'",
     "output_type": "error",
     "traceback": [
      "\u001B[0;31m---------------------------------------------------------------------------\u001B[0m",
      "\u001B[0;31mModuleNotFoundError\u001B[0m                       Traceback (most recent call last)",
      "\u001B[0;32m<ipython-input-4-6cae888399d0>\u001B[0m in \u001B[0;36m<module>\u001B[0;34m\u001B[0m\n\u001B[0;32m----> 1\u001B[0;31m \u001B[0;32mfrom\u001B[0m \u001B[0mwebdriver_manager\u001B[0m\u001B[0;34m.\u001B[0m\u001B[0mchrome\u001B[0m \u001B[0;32mimport\u001B[0m \u001B[0mChromeDriverManager\u001B[0m\u001B[0;34m\u001B[0m\u001B[0;34m\u001B[0m\u001B[0m\n\u001B[0m\u001B[1;32m      2\u001B[0m \u001B[0;34m\u001B[0m\u001B[0m\n\u001B[1;32m      3\u001B[0m \u001B[0mdriver\u001B[0m \u001B[0;34m=\u001B[0m \u001B[0mwebdriver\u001B[0m\u001B[0;34m.\u001B[0m\u001B[0mChrome\u001B[0m\u001B[0;34m(\u001B[0m\u001B[0mChromeDriverManager\u001B[0m\u001B[0;34m(\u001B[0m\u001B[0;34m)\u001B[0m\u001B[0;34m.\u001B[0m\u001B[0minstall\u001B[0m\u001B[0;34m(\u001B[0m\u001B[0;34m)\u001B[0m\u001B[0;34m)\u001B[0m\u001B[0;34m\u001B[0m\u001B[0;34m\u001B[0m\u001B[0m\n",
      "\u001B[0;31mModuleNotFoundError\u001B[0m: No module named 'webdriver_manager'"
     ]
    }
   ],
   "source": [
    "# from webdriver_manager.chrome import ChromeDriverManager\n",
    "#\n",
    "# driver = webdriver.Chrome(ChromeDriverManager().install())"
   ]
  },
  {
   "cell_type": "code",
   "execution_count": 4,
   "id": "21239ccc",
   "metadata": {
    "pycharm": {
     "name": "#%%\n"
    }
   },
   "outputs": [],
   "source": [
    "# # Log in to LinkedIn\n",
    "# def login(driver, p)\n",
    "# url = \"https://www.linkedin.com/checkpoint/rm/sign-in-another-account?fromSignIn=true&trk=guest_homepage-basic_nav-header-signin\"\n",
    "# # Wait support - number of seconds before timing out\n",
    "# wait = WebDriverWait(driver, 10)\n",
    "# driver.get(url)\n",
    "# username = driver.find_element_by_id(\"username\")\n",
    "# username.send_keys(\"wang.meredith09@gmail.com\")\n",
    "# password = driver.find_element_by_id(\"password\")\n",
    "# password.send_keys(p)\n",
    "# driver.find_element_by_class_name(\"login__form_action_container\").click()"
   ]
  },
  {
   "cell_type": "code",
   "execution_count": 107,
   "id": "33051ed8",
   "metadata": {
    "pycharm": {
     "name": "#%%\n"
    }
   },
   "outputs": [],
   "source": [
    "# Log into linkedin\n",
    "def login(driver, password):\n",
    "    url =  'https://www.linkedin.com/checkpoint/rm/sign-in-another-account?fromSignIn=true&trk=guest_homepage-basic_nav-header-signin'\n",
    "    wait = WebDriverWait(driver, 10)\n",
    "    driver.get(url)\n",
    "  \n",
    "    driver.find_element(\"xpath\",'/html/body/div/main/div[2]/div[1]/form/div[1]/input').send_keys('wang.meredith09@gmail.com')\n",
    "    driver.find_element(\"xpath\",'/html/body/div/main/div[2]/div[1]/form/div[2]/input').send_keys(password)\n",
    "    driver.find_element(\"xpath\",'/html/body/div/main/div[2]/div[1]/form/div[3]').click()\n",
    "\n",
    "# Redirects driver to the query link\n",
    "def search(driver):\n",
    "    time.sleep(5)\n",
    "    driver.get(\"https://www.linkedin.com/jobs/search/?keywords=data%20science\")\n",
    "\n",
    "# Grab the number of results that were fetched\n",
    "def get_n_results(driver):\n",
    "    time.sleep(10)\n",
    "    results_div = driver.find_element(\"xpath\",'/html/body/div[4]/div[3]/div[4]/div/div/main/div/section[1]/header/div[1]/small')\n",
    "    n_string = results_div.text\n",
    "    n = int(n_string.split()[0].replace(',',\"\"))\n",
    "    return n \n",
    "\n",
    "#Finds job ul div\n",
    "def get_jobs(driver):\n",
    "    ul_div = driver.find_element(\"xpath\",'/html/body/div[4]/div[3]/div[4]/div/div/main/div/section[1]/div/ul')\n",
    "    return ul_div\n",
    "\n",
    "\n",
    "#Scrolls to properly load page\n",
    "def scroll_down(driver):\n",
    "    for i in np.linspace(0,1,10):\n",
    "        time.sleep(2)\n",
    "        # Excute JavaScript\n",
    "        # driver.execute_script(\"window.scrollTo(0,document.body.scrollHeight)\")\n",
    "        driver.execute_script(f\"window.scrollTo(0,document.body.scrollHeight*{i})\")\n",
    "\n",
    "def get_job_urls(jobs,driver,job_urls = {}):\n",
    "    i = 1\n",
    "    while True: \n",
    "        try:\n",
    "\n",
    "            WebDriverWait(driver, 1).until(EC.presence_of_element_located((By.XPATH,f'/html/body/div[4]/div[3]/div[4]/div/div/main/div/section[1]/div/ul/li[{i}]')))\n",
    "            url = jobs.find_element(\"xpath\",f'/html/body/div[4]/div[3]/div[4]/div/div/main/div/section[1]/div/ul/li[{i}]/div/div[1]/div[1]/div[2]/div[1]/a').get_attribute(\"href\")\n",
    "            role = jobs.find_element(\"xpath\",f'/html/body/div[4]/div[3]/div[4]/div/div/main/div/section[1]/div/ul/li[{i}]/div/div[1]/div[1]/div[2]/div[1]/a').text\n",
    "            company = jobs.find_element(\"xpath\",f'/html/body/div[4]/div[3]/div[4]/div/div/main/div/section[1]/div/ul/li[{i}]/div/div[1]/div[1]/div[2]/div[2]/a').text\n",
    "            location = driver.find_element(\"xpath\",f'/html/body/div[4]/div[3]/div[4]/div/div/main/div/section[1]/div/ul/li[{i}]/div/div[1]/div[1]/div[2]/div[3]/ul/li').text\n",
    "            job_urls.update({url:{'company':company,'location':location,'role':role}})\n",
    "            i+=1\n",
    "        except:\n",
    "            return job_urls\n",
    "\n",
    "def load_next_page(driver):\n",
    "    curr= driver.find_element(\"xpath\",'//*[@aria-current=\"true\"]').text\n",
    "    next = driver.find_element(\"xpath\",f'//*[@aria-label=\"Page {int(curr)+1}\"]')\n",
    "    next.click()\n",
    "\n",
    "def get_description(driver,job_dict):\n",
    "    good = []\n",
    "    fail = []\n",
    "  #Iterate through the url list to scrape the descriptions\n",
    "    for url in list(job_dict.keys()):\n",
    "        if url not in good:\n",
    "            try:\n",
    "                driver.get(url)\n",
    "                time.sleep(2)\n",
    "                if driver.current_url != url:\n",
    "                    print(f'failed at {url}')\n",
    "              #remove broken urls\n",
    "                    job_dict.pop(url)\n",
    "              #scrape\n",
    "                # driver.find_element(\"xpath\",'//*[@aria-label=\"Click to see more description\"]').click()\n",
    "                description = driver.find_element(\"xpath\",'/html/body/div[5]/div[3]/div/div[1]/div[1]/div/div[2]/article/div/div[1]').text\n",
    "                time.sleep(3)\n",
    "                job_dict.get(url).update({\"description\":description})\n",
    "                time.sleep(6)\n",
    "                good.append(url)\n",
    "                return job_dict\n",
    "            except:\n",
    "                #keep going if there is a random error in which a div did not load properly but check where we failed\n",
    "                print(f\"fail {job_dict.get(url)}\")\n",
    "                fail.append(url)\n",
    "\n",
    "def get_skills(driver,job_dict):\n",
    "    good = []\n",
    "    fail = []\n",
    "    #Iterate through the url list to scrape the descriptions\n",
    "    for url in list(job_dict.keys()):\n",
    "        if url not in good:\n",
    "            try:\n",
    "                driver.get(url)\n",
    "                time.sleep(2)\n",
    "                if driver.current_url != url:\n",
    "                    print(f'failed at {url}')\n",
    "                    #remove broken urls\n",
    "                    job_dict.pop(url)\n",
    "                #scrape\n",
    "                skill_list = driver.find_element(\"xpath\", '/html/body/div[5]/div[3]/div/div[1]/div[1]/div/div[6]/div/div[1]/div[2]/div[2]/ul')\n",
    "                skills = skill_list.find_elements(By.TAG_NAME, \"li\")\n",
    "                # if len(skills) > 0:\n",
    "                # i = 1\n",
    "                skill = []\n",
    "                # while True:\n",
    "                #     try:\n",
    "                #         # WebDriverWait(driver, 1).until(EC.presence_of_element_located((By.XPATH,f'/html/body/div[5]/div[3]/div/div[1]/div[1]/div/div[6]/div/div[1]/div[2]/div[2]/ul/li[{i}]')))\n",
    "                #         skillname = driver.find_element(\"xpath\",f'/html/body/div[5]/div[3]/div/div[1]/div[1]/div/div[6]/div/div[1]/div[2]/div[2]/ul/li[{i}]/p').text\n",
    "                #         job_dict.get(url).update({\"skills\":skillname})\n",
    "                #         i+=1\n",
    "                #         good.append(url)\n",
    "                #     except:\n",
    "                #         return job_dict\n",
    "                for i in skills:\n",
    "                    skill = i.find_elements(\"xpath\", f'//*[@id=\"ember95\"]/div/div[1]/div[2]/div[2]/ul/li[{i}]/p').text\n",
    "                    job_dict.get(url).update({\"skills\":skill})\n",
    "                    good.append(url)\n",
    "                return job_dict\n",
    "            except:\n",
    "                #keep going if there is a random error in which a div did not load properly but check where we failed\n",
    "                print(f\"fail{job_dict.get(url)}\")\n",
    "                fail.append(url)"
   ]
  },
  {
   "cell_type": "code",
   "execution_count": 108,
   "id": "ab01a8c7",
   "metadata": {
    "pycharm": {
     "name": "#%%\n"
    }
   },
   "outputs": [],
   "source": [
    "def main(driver,password):\n",
    "    login(driver, password)\n",
    "    search(driver)\n",
    "    n = get_n_results(driver)\n",
    "    job_dict = {}\n",
    "    #iterate through the amount of pages given\n",
    "    for i in range(2):\n",
    "        jobs = get_jobs(driver)\n",
    "        scroll_down(driver)\n",
    "        get_job_urls(jobs,driver,job_urls = job_dict)\n",
    "        time.sleep(1)\n",
    "        load_next_page(driver)\n",
    "    get_skills(driver,job_dict)\n",
    "    df = pd.DataFrame(job_dict)\n",
    "    # return get_description(driver,job_dict,good)\n",
    "    return df"
   ]
  },
  {
   "cell_type": "code",
   "execution_count": 109,
   "outputs": [
    {
     "data": {
      "text/plain": "str"
     },
     "execution_count": 109,
     "metadata": {},
     "output_type": "execute_result"
    }
   ],
   "source": [
    "secret_file = open(\"env.txt\", \"r\")\n",
    "password = secret_file.read()\n",
    "type(password)"
   ],
   "metadata": {
    "collapsed": false,
    "pycharm": {
     "name": "#%%\n"
    }
   }
  },
  {
   "cell_type": "code",
   "execution_count": 110,
   "id": "bf6ec68b",
   "metadata": {
    "pycharm": {
     "name": "#%%\n"
    }
   },
   "outputs": [
    {
     "name": "stdout",
     "output_type": "stream",
     "text": [
      "fail{'company': 'TELUS International', 'location': 'Colorado, United States', 'role': 'Digital Solutions | Data Science Engineer with ML'}\n",
      "fail{'company': 'PwC', 'location': 'Austin, TX', 'role': 'Data Science & Machine Learning SA w/ Conversational AI'}\n",
      "fail{'company': 'Johnson & Johnson', 'location': 'Cincinnati, OH', 'role': 'Assistant/Associate Engineer, 2023 Engineering Development Program (EDP), Data Science Engineer'}\n",
      "fail{'company': 'Booz Allen Hamilton', 'location': 'Huntsville, AL', 'role': 'Data Science Developer'}\n",
      "fail{'company': 'Expedia Group', 'location': 'Austin, TX', 'role': 'Data Scientist II, Product Analytics'}\n",
      "fail{'company': 'Elastic', 'location': 'San Antonio, TX', 'role': 'Analytics Engineer'}\n",
      "fail{'company': 'Codeup', 'location': 'San Antonio, Texas Metropolitan Area', 'role': 'Data Science Instructor'}\n"
     ]
    },
    {
     "data": {
      "text/plain": "         https://www.linkedin.com/jobs/view/3155711956/?eBP=CwEAAAGCn9jCNoky5gZiIoJzY7Tal2Y3YBYPJIvepgDfeQl8IjJ2tOUSkrokVwv0ZHK19cfmg2sSrxyPj-4qWJGVn1s4qJNQOwEqgp7crkzqT4Qr_aLQ-UCGuyz2OWhRlycLEkxMWOiZWnPsHkU4xPtCWmlxtlFEG8tXPuofb5hSjBSPj0B4QvkYUTunK6mUxMhHotcQJ5o7xmkTsC3EulovffHXcFEGJzrvCss-8iZWdKD9KZDmJicSCoAamLHsxkCzQAV6kaeN2xtlEfAT3y47FsI9a0NC-r6l7e9NHNWdCO8YPpcDytdk9ZK9rp-jVOfkOU7tUBDdcESqAcyZj9Azu5583U9P1wIH2r7fRPzBcKQAC2cHSdaSTDlCgGrz&recommendedFlavor=SKILL_ASSESSMENTS&refId=jM228hEgtvGOYmgO16rhnQ%3D%3D&trackingId=cyJYuq69Xr5mXs%2BSRaSB9w%3D%3D&trk=flagship3_search_srp_jobs  \\\ncompany                                                                         TELUS International                                                                                                                                                                                                                                                                                                                                                                                                                                                                                                           \nlocation                                                                    Colorado, United States                                                                                                                                                                                                                                                                                                                                                                                                                                                                                                           \nrole                                              Digital Solutions | Data Science Engineer with ML                                                                                                                                                                                                                                                                                                                                                                                                                                                                                                           \n\n         https://www.linkedin.com/jobs/view/3142891690/?eBP=CwEAAAGCn9jCNpWxw8E_OqE-fvjMLg-WoethgIG-Kr1u7k8IWQy1qfc3mOnE-6MFrmn1N1B2I3ydEsJcR25k7OlnlEIvMVCzyqvuh__J1CjXyPZS07ePrzhBPlLeX7WZXv1eBQxNRBBfPSUiJH3teW-K_qg5mKDPUBb6F8tmEsISC4qry9mDTAtqK4TQW3H19d7vtrAwnJBH0pfddZyjuvNnZfzI2_AIg7hUMR4B_ZE2ouxg-x0vqBnrlny1BtzArtz6LI_FP-dLjEDYc2v9seia-25MjB-nXfjrSTErLWd5YllpOn_ZAjk91vhsaLAGzURmZFb99niWx7o0Y7zzi9ffU91c1Twb-2qzMmHdbf7KyL0R29r113V1Yi3Zoa8yggA&recommendedFlavor=SKILL_ASSESSMENTS&refId=jM228hEgtvGOYmgO16rhnQ%3D%3D&trackingId=GH62gzJlUZbSS5B5qdOSbw%3D%3D&trk=flagship3_search_srp_jobs  \\\ncompany                                                                                         PwC                                                                                                                                                                                                                                                                                                                                                                                                                                                                                                            \nlocation                                                                                 Austin, TX                                                                                                                                                                                                                                                                                                                                                                                                                                                                                                            \nrole                                        Data Science & Machine Learning SA w/ Conversational AI                                                                                                                                                                                                                                                                                                                                                                                                                                                                                                            \n\n         https://www.linkedin.com/jobs/view/3192667302/?eBP=CwEAAAGCn9jCNjRddQOoMQTL1XTp33VedODewuO7NV8Hb3L-byz7fNrR2dg2ySE-Bdu6cet-uUg9GyjU0uAgcjEd7LreDvbv7C6Ph1YGeuLBVWFxR95NL0yVRN-aW0mcgO6xKcpYuLbFWm0icyzTyjttF2542_VEgqngdSVsbyAos7j9-7QlyDxNIx4JjyRTs6Xm0AdQ_jjn8A1tao1fDqtUptLSKGaojKY4udor0i8rfV7YXiZk80oQIv8fCvE0dhOJkCWXousWzPEqGqK7TLae0klVb9dPyBOOHRBXsFmmls7P2mAhGuUxNVnxwhgXRaHgSyKvUs0eetO1c5Dh2V1I97UVR9hsbBMfqK0RHjATAHHE8GSeSnpDSGeo50ld&recommendedFlavor=SKILL_ASSESSMENTS&refId=jM228hEgtvGOYmgO16rhnQ%3D%3D&trackingId=p2GXErocXYSXcTzFuDyfMQ%3D%3D&trk=flagship3_search_srp_jobs  \\\ncompany                                                                           Johnson & Johnson                                                                                                                                                                                                                                                                                                                                                                                                                                                                                                         \nlocation                                                                             Cincinnati, OH                                                                                                                                                                                                                                                                                                                                                                                                                                                                                                         \nrole      Assistant/Associate Engineer, 2023 Engineering Development Program (EDP), Data Science...                                                                                                                                                                                                                                                                                                                                                                                                                                                                                                         \n\n         https://www.linkedin.com/jobs/view/3217341688/?eBP=CwEAAAGCn9jCNmgBaZfbTNygHZKyLnUju52toLIRKqshry7KdA6w7aLbpfNjIU1sjl2JX-aSDYw-FIAHGDaC2QzIbaNg4wqrOODexmINomyuZeBCYpTpxpdbEQ9BnUZlr6iypcxjAQsHNLis0YQsboxKYk2EzUCa2AFkThFhPn9GyqT9_2MtsIBIqU3UPVhtsONCzGZuMiCdXwprE19FG_OehwR5rCaq4PH8bfnVUy8HA6xYF5gbD6hnzbgi0jfgQQqjjHhmHrUBtKPNX0voydYkTyn9C4EKIEJfFoTGBBQa86wrkhSxgA5IrgkZnLUWyCzGIjZJbNpEDRN3asq0euPQe3bXg9fGiJG3Jl8q9Dlr2enWO9V0AwgQ2X-xbMUX4H4&recommendedFlavor=SKILL_ASSESSMENTS&refId=jM228hEgtvGOYmgO16rhnQ%3D%3D&trackingId=5PhDtANinEm%2F%2F%2BORZr1A4A%3D%3D&trk=flagship3_search_srp_jobs  \\\ncompany                                                                         Booz Allen Hamilton                                                                                                                                                                                                                                                                                                                                                                                                                                                                                                                  \nlocation                                                                             Huntsville, AL                                                                                                                                                                                                                                                                                                                                                                                                                                                                                                                  \nrole                                                                         Data Science Developer                                                                                                                                                                                                                                                                                                                                                                                                                                                                                                                  \n\n         https://www.linkedin.com/jobs/view/3213166440/?eBP=JOB_SEARCH_ORGANIC&recommendedFlavor=IN_NETWORK&refId=jM228hEgtvGOYmgO16rhnQ%3D%3D&trackingId=QsGOeYi7xb%2B70OFgSdNggg%3D%3D&trk=flagship3_search_srp_jobs  \\\ncompany                                                                               Expedia Group                                                                                                                      \nlocation                                                                                 Austin, TX                                                                                                                      \nrole                                                           Data Scientist II, Product Analytics                                                                                                                      \n\n         https://www.linkedin.com/jobs/view/3214120458/?eBP=JOB_SEARCH_ORGANIC&recommendedFlavor=SKILL_ASSESSMENTS&refId=jM228hEgtvGOYmgO16rhnQ%3D%3D&trackingId=B1Ii4J6JvLzVwRW2s1xNsw%3D%3D&trk=flagship3_search_srp_jobs  \\\ncompany                                                                                     Elastic                                                                                                                           \nlocation                                                                            San Antonio, TX                                                                                                                           \nrole                                                                             Analytics Engineer                                                                                                                           \n\n         https://www.linkedin.com/jobs/view/3184747831/?eBP=CwEAAAGCn9jCNlMPubjmW2Z4X4RzkpR97TjWMXl-vjgNnYBkVNhxtg6XtEM0_OgM-xndA_uOUfCiP1925s18JBip2cdMPpapxt-sMG3UG72nnJo6UpgwQnYxT2_hkGsBv1VMUYt-c3RJBEVqAHbWfGMx584b231snV1fFNvK_O1qkSqULg7vsHABh664zTBCs13KoIEMQjQEPX5YvUg18tCeNKcy8rz9MZW-Byqk_sETPYQzvnPcWFH9Us1A6MKsfn4t-hUqapdTaQt1XczgZgFTdIyLtFQ73udEpLce-WR7jkArd1nNUp_s9FHODCwMzTDuYuGd6CoDev8lSueveuAx35SIYEfzvY9-Gb3LFiYewBuFpjGkUHFDjvlm248J&recommendedFlavor=SCHOOL_RECRUIT&refId=jM228hEgtvGOYmgO16rhnQ%3D%3D&trackingId=zJBCfN1HYzq6owyR5aAkrQ%3D%3D&trk=flagship3_search_srp_jobs  \ncompany                                                                                      Codeup                                                                                                                                                                                                                                                                                                                                                                                                                                                                                                     \nlocation                                                       San Antonio, Texas Metropolitan Area                                                                                                                                                                                                                                                                                                                                                                                                                                                                                                     \nrole                                                                        Data Science Instructor                                                                                                                                                                                                                                                                                                                                                                                                                                                                                                     ",
      "text/html": "<div>\n<style scoped>\n    .dataframe tbody tr th:only-of-type {\n        vertical-align: middle;\n    }\n\n    .dataframe tbody tr th {\n        vertical-align: top;\n    }\n\n    .dataframe thead th {\n        text-align: right;\n    }\n</style>\n<table border=\"1\" class=\"dataframe\">\n  <thead>\n    <tr style=\"text-align: right;\">\n      <th></th>\n      <th>https://www.linkedin.com/jobs/view/3155711956/?eBP=CwEAAAGCn9jCNoky5gZiIoJzY7Tal2Y3YBYPJIvepgDfeQl8IjJ2tOUSkrokVwv0ZHK19cfmg2sSrxyPj-4qWJGVn1s4qJNQOwEqgp7crkzqT4Qr_aLQ-UCGuyz2OWhRlycLEkxMWOiZWnPsHkU4xPtCWmlxtlFEG8tXPuofb5hSjBSPj0B4QvkYUTunK6mUxMhHotcQJ5o7xmkTsC3EulovffHXcFEGJzrvCss-8iZWdKD9KZDmJicSCoAamLHsxkCzQAV6kaeN2xtlEfAT3y47FsI9a0NC-r6l7e9NHNWdCO8YPpcDytdk9ZK9rp-jVOfkOU7tUBDdcESqAcyZj9Azu5583U9P1wIH2r7fRPzBcKQAC2cHSdaSTDlCgGrz&amp;recommendedFlavor=SKILL_ASSESSMENTS&amp;refId=jM228hEgtvGOYmgO16rhnQ%3D%3D&amp;trackingId=cyJYuq69Xr5mXs%2BSRaSB9w%3D%3D&amp;trk=flagship3_search_srp_jobs</th>\n      <th>https://www.linkedin.com/jobs/view/3142891690/?eBP=CwEAAAGCn9jCNpWxw8E_OqE-fvjMLg-WoethgIG-Kr1u7k8IWQy1qfc3mOnE-6MFrmn1N1B2I3ydEsJcR25k7OlnlEIvMVCzyqvuh__J1CjXyPZS07ePrzhBPlLeX7WZXv1eBQxNRBBfPSUiJH3teW-K_qg5mKDPUBb6F8tmEsISC4qry9mDTAtqK4TQW3H19d7vtrAwnJBH0pfddZyjuvNnZfzI2_AIg7hUMR4B_ZE2ouxg-x0vqBnrlny1BtzArtz6LI_FP-dLjEDYc2v9seia-25MjB-nXfjrSTErLWd5YllpOn_ZAjk91vhsaLAGzURmZFb99niWx7o0Y7zzi9ffU91c1Twb-2qzMmHdbf7KyL0R29r113V1Yi3Zoa8yggA&amp;recommendedFlavor=SKILL_ASSESSMENTS&amp;refId=jM228hEgtvGOYmgO16rhnQ%3D%3D&amp;trackingId=GH62gzJlUZbSS5B5qdOSbw%3D%3D&amp;trk=flagship3_search_srp_jobs</th>\n      <th>https://www.linkedin.com/jobs/view/3192667302/?eBP=CwEAAAGCn9jCNjRddQOoMQTL1XTp33VedODewuO7NV8Hb3L-byz7fNrR2dg2ySE-Bdu6cet-uUg9GyjU0uAgcjEd7LreDvbv7C6Ph1YGeuLBVWFxR95NL0yVRN-aW0mcgO6xKcpYuLbFWm0icyzTyjttF2542_VEgqngdSVsbyAos7j9-7QlyDxNIx4JjyRTs6Xm0AdQ_jjn8A1tao1fDqtUptLSKGaojKY4udor0i8rfV7YXiZk80oQIv8fCvE0dhOJkCWXousWzPEqGqK7TLae0klVb9dPyBOOHRBXsFmmls7P2mAhGuUxNVnxwhgXRaHgSyKvUs0eetO1c5Dh2V1I97UVR9hsbBMfqK0RHjATAHHE8GSeSnpDSGeo50ld&amp;recommendedFlavor=SKILL_ASSESSMENTS&amp;refId=jM228hEgtvGOYmgO16rhnQ%3D%3D&amp;trackingId=p2GXErocXYSXcTzFuDyfMQ%3D%3D&amp;trk=flagship3_search_srp_jobs</th>\n      <th>https://www.linkedin.com/jobs/view/3217341688/?eBP=CwEAAAGCn9jCNmgBaZfbTNygHZKyLnUju52toLIRKqshry7KdA6w7aLbpfNjIU1sjl2JX-aSDYw-FIAHGDaC2QzIbaNg4wqrOODexmINomyuZeBCYpTpxpdbEQ9BnUZlr6iypcxjAQsHNLis0YQsboxKYk2EzUCa2AFkThFhPn9GyqT9_2MtsIBIqU3UPVhtsONCzGZuMiCdXwprE19FG_OehwR5rCaq4PH8bfnVUy8HA6xYF5gbD6hnzbgi0jfgQQqjjHhmHrUBtKPNX0voydYkTyn9C4EKIEJfFoTGBBQa86wrkhSxgA5IrgkZnLUWyCzGIjZJbNpEDRN3asq0euPQe3bXg9fGiJG3Jl8q9Dlr2enWO9V0AwgQ2X-xbMUX4H4&amp;recommendedFlavor=SKILL_ASSESSMENTS&amp;refId=jM228hEgtvGOYmgO16rhnQ%3D%3D&amp;trackingId=5PhDtANinEm%2F%2F%2BORZr1A4A%3D%3D&amp;trk=flagship3_search_srp_jobs</th>\n      <th>https://www.linkedin.com/jobs/view/3213166440/?eBP=JOB_SEARCH_ORGANIC&amp;recommendedFlavor=IN_NETWORK&amp;refId=jM228hEgtvGOYmgO16rhnQ%3D%3D&amp;trackingId=QsGOeYi7xb%2B70OFgSdNggg%3D%3D&amp;trk=flagship3_search_srp_jobs</th>\n      <th>https://www.linkedin.com/jobs/view/3214120458/?eBP=JOB_SEARCH_ORGANIC&amp;recommendedFlavor=SKILL_ASSESSMENTS&amp;refId=jM228hEgtvGOYmgO16rhnQ%3D%3D&amp;trackingId=B1Ii4J6JvLzVwRW2s1xNsw%3D%3D&amp;trk=flagship3_search_srp_jobs</th>\n      <th>https://www.linkedin.com/jobs/view/3184747831/?eBP=CwEAAAGCn9jCNlMPubjmW2Z4X4RzkpR97TjWMXl-vjgNnYBkVNhxtg6XtEM0_OgM-xndA_uOUfCiP1925s18JBip2cdMPpapxt-sMG3UG72nnJo6UpgwQnYxT2_hkGsBv1VMUYt-c3RJBEVqAHbWfGMx584b231snV1fFNvK_O1qkSqULg7vsHABh664zTBCs13KoIEMQjQEPX5YvUg18tCeNKcy8rz9MZW-Byqk_sETPYQzvnPcWFH9Us1A6MKsfn4t-hUqapdTaQt1XczgZgFTdIyLtFQ73udEpLce-WR7jkArd1nNUp_s9FHODCwMzTDuYuGd6CoDev8lSueveuAx35SIYEfzvY9-Gb3LFiYewBuFpjGkUHFDjvlm248J&amp;recommendedFlavor=SCHOOL_RECRUIT&amp;refId=jM228hEgtvGOYmgO16rhnQ%3D%3D&amp;trackingId=zJBCfN1HYzq6owyR5aAkrQ%3D%3D&amp;trk=flagship3_search_srp_jobs</th>\n    </tr>\n  </thead>\n  <tbody>\n    <tr>\n      <th>company</th>\n      <td>TELUS International</td>\n      <td>PwC</td>\n      <td>Johnson &amp; Johnson</td>\n      <td>Booz Allen Hamilton</td>\n      <td>Expedia Group</td>\n      <td>Elastic</td>\n      <td>Codeup</td>\n    </tr>\n    <tr>\n      <th>location</th>\n      <td>Colorado, United States</td>\n      <td>Austin, TX</td>\n      <td>Cincinnati, OH</td>\n      <td>Huntsville, AL</td>\n      <td>Austin, TX</td>\n      <td>San Antonio, TX</td>\n      <td>San Antonio, Texas Metropolitan Area</td>\n    </tr>\n    <tr>\n      <th>role</th>\n      <td>Digital Solutions | Data Science Engineer with ML</td>\n      <td>Data Science &amp; Machine Learning SA w/ Conversational AI</td>\n      <td>Assistant/Associate Engineer, 2023 Engineering Development Program (EDP), Data Science...</td>\n      <td>Data Science Developer</td>\n      <td>Data Scientist II, Product Analytics</td>\n      <td>Analytics Engineer</td>\n      <td>Data Science Instructor</td>\n    </tr>\n  </tbody>\n</table>\n</div>"
     },
     "execution_count": 110,
     "metadata": {},
     "output_type": "execute_result"
    }
   ],
   "source": [
    "driver = webdriver.Chrome('/Users/williambaldridge/linkedin-data-science-project/chromedriver')\n",
    "secret_file = open(\"env.txt\", \"r\")\n",
    "password = secret_file.read()\n",
    "main(driver,password)\n",
    "\n",
    "# driver.quit()"
   ]
  },
  {
   "cell_type": "code",
   "execution_count": null,
   "outputs": [],
   "source": [],
   "metadata": {
    "collapsed": false,
    "pycharm": {
     "name": "#%%\n"
    }
   }
  }
 ],
 "metadata": {
  "kernelspec": {
   "display_name": "Python 3 (ipykernel)",
   "language": "python",
   "name": "python3"
  },
  "language_info": {
   "codemirror_mode": {
    "name": "ipython",
    "version": 3
   },
   "file_extension": ".py",
   "mimetype": "text/x-python",
   "name": "python",
   "nbconvert_exporter": "python",
   "pygments_lexer": "ipython3",
   "version": "3.9.12"
  }
 },
 "nbformat": 4,
 "nbformat_minor": 5
}