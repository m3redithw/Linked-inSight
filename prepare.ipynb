{
 "cells": [
  {
   "cell_type": "markdown",
   "id": "e768a907",
   "metadata": {
    "pycharm": {
     "name": "#%% md\n"
    }
   },
   "source": [
    "# Data Preparation"
   ]
  },
  {
   "cell_type": "markdown",
   "id": "6a39da95",
   "metadata": {
    "pycharm": {
     "name": "#%% md\n"
    }
   },
   "source": [
    "- Convert text to all lower case for normalcy.\n",
    "- Remove any accented characters, non-ASCII characters.\n",
    "- Remove special characters.\n",
    "- Stem or lemmatize the words.\n",
    "- Remove stopwords.\n",
    "- Store the clean text and the original text for use in future notebooks.\n",
    "\n"
   ]
  },
  {
   "cell_type": "code",
   "execution_count": 2,
   "id": "9e301589",
   "metadata": {
    "pycharm": {
     "name": "#%%\n"
    }
   },
   "outputs": [],
   "source": [
    "import re\n",
    "import unicodedata\n",
    "import nltk\n",
    "from nltk.tokenize.toktok import ToktokTokenizer\n",
    "from nltk.corpus import stopwords\n",
    "\n",
    "from imports import *"
   ]
  },
  {
   "cell_type": "code",
   "execution_count": 3,
   "id": "42109ef0",
   "metadata": {
    "pycharm": {
     "name": "#%%\n"
    }
   },
   "outputs": [],
   "source": [
    "df = pd.read_csv('data_science.csv')"
   ]
  },
  {
   "cell_type": "code",
   "execution_count": 4,
   "id": "513a3a73",
   "metadata": {
    "pycharm": {
     "name": "#%%\n"
    }
   },
   "outputs": [],
   "source": [
    "df.drop(columns = 'link', inplace = True)"
   ]
  },
  {
   "cell_type": "code",
   "execution_count": 5,
   "id": "7458284c",
   "metadata": {
    "pycharm": {
     "name": "#%%\n"
    }
   },
   "outputs": [
    {
     "data": {
      "text/plain": "           company                         location     mode       type  \\\n0              PwC                       Austin, TX   Remote  Full time   \n1     Mastersworks  New York City Metropolitan Area  On-site  Full time   \n2        ReviveMed                    Cambridge, MA   Hybrid  Full time   \n3              IBM                  Baton Rouge, LA  On-site  Full time   \n4    Expedia Group                       Austin, TX   Hybrid  Full time   \n..             ...                              ...      ...        ...   \n195      HD Supply                      Atlanta, GA  On-site  Full time   \n196          Optum                  San Antonio, TX  On-site  Full time   \n197         Grindr                      Chicago, IL   Remote  Full time   \n198       1010data                    United States   Remote  Full time   \n199          Adobe                      Waltham, MA  On-site  Full time   \n\n          level                                                     role  \\\n0         Entry  Data Science & Machine Learning SA w/ Conversational AI   \n1    Mid-Senior                                         VP, Data Science   \n2    Mid-Senior                                  Biological Data Science   \n3         Entry                                            Data Engineer   \n4         Entry                     Data Scientist II, Product Analytics   \n..          ...                                                      ...   \n195       Entry                                           Data Scientist   \n196       Entry                                            Data Engineer   \n197       Entry                                           Data Scientist   \n198       Entry                                           Data Scientist   \n199  Mid-Senior                                Machine Learning Engineer   \n\n                                                                                  requirements  \\\n0    Bachelor Degree\\nMinimum Years Of Experience: 4 year(s)\\nDemonstrates thorough abiliti...   \n1    Identify and execute on predictive models to help internal teams at Masterworks unders...   \n2    Self-motivated, highly disciplined, and passionate about discovering the right therape...   \n3    2 years + experience with Python, Java, or other object-oriented programming languages...   \n4    2+ years of work experience doing quantitative analysis to tackle business problems\\nS...   \n..                                                                                         ...   \n195  3 to 5 years of experience in applied data science in a retail marketing or operations...   \n196  BS in Engineering, Computer Science, Data Science or Equivalent\\n2+ years of experienc...   \n197  4+ years of proven experience in an analytics role\\nAbility to communicate the results...   \n198  3-7 years professional experience in data analysis or practical experience building cu...   \n199  Develop and implement scalable and efficient models on large-scale datasets to address...   \n\n     edu_bachelor  edu_master  edu_phd  edu_other  \\\n0              22          44       11         23   \n1              23          40       28          9   \n2              10          55       31          4   \n3               0         100        0          0   \n4              13          72        7          8   \n..            ...         ...      ...        ...   \n195            38          44        9          9   \n196            50          50        0          0   \n197            23          62        9          6   \n198            33          67        0          0   \n199             8          68       22          2   \n\n                                                                                       skills   \n0    Python (Programming Language)\\nMachine Learning\\nSQL\\nData Science\\nDeep Learning\\nDat...  \n1    SQL\\nArtificial Intelligence (AI)\\nJavaScript\\nEntrepreneurship\\nAgile Methodologies\\n...  \n2    SQL\\nJavaScript\\nMachine Learning\\nLeadership\\nPython (Programming Language)\\nProgramm...  \n3    SQL\\nGitHub\\nLeadership\\nOracle Database\\nGoogle Cloud Platform (GCP)\\nApache Phoenix\\...  \n4    SQL\\nJavaScript\\nLeadership\\nMicrosoft SQL Server\\nCascading Style Sheets (CSS)\\nC#\\nO...  \n..                                                                                         ...  \n195  SQL\\nPython (Programming Language)\\nMachine Learning\\nTableau\\nData Analysis\\nMATLAB\\n...  \n196  SQL\\nGit\\nMicrosoft SQL Server\\nLinux System Administration\\nData Administration\\nData...  \n197  Python (Programming Language)\\nSQL\\nMachine Learning\\nMicrosoft PowerPoint\\nLeadership...  \n198  Python (Programming Language)\\nMicrosoft Excel\\nSQL\\nMicrosoft PowerPoint\\nMachine Lea...  \n199  Machine Learning\\nData Science\\nSQL\\nMicrosoft Excel\\nHadoop\\nNatural Language Process...  \n\n[200 rows x 12 columns]",
      "text/html": "<div>\n<style scoped>\n    .dataframe tbody tr th:only-of-type {\n        vertical-align: middle;\n    }\n\n    .dataframe tbody tr th {\n        vertical-align: top;\n    }\n\n    .dataframe thead th {\n        text-align: right;\n    }\n</style>\n<table border=\"1\" class=\"dataframe\">\n  <thead>\n    <tr style=\"text-align: right;\">\n      <th></th>\n      <th>company</th>\n      <th>location</th>\n      <th>mode</th>\n      <th>type</th>\n      <th>level</th>\n      <th>role</th>\n      <th>requirements</th>\n      <th>edu_bachelor</th>\n      <th>edu_master</th>\n      <th>edu_phd</th>\n      <th>edu_other</th>\n      <th>skills</th>\n    </tr>\n  </thead>\n  <tbody>\n    <tr>\n      <th>0</th>\n      <td>PwC</td>\n      <td>Austin, TX</td>\n      <td>Remote</td>\n      <td>Full time</td>\n      <td>Entry</td>\n      <td>Data Science &amp; Machine Learning SA w/ Conversational AI</td>\n      <td>Bachelor Degree\\nMinimum Years Of Experience: 4 year(s)\\nDemonstrates thorough abiliti...</td>\n      <td>22</td>\n      <td>44</td>\n      <td>11</td>\n      <td>23</td>\n      <td>Python (Programming Language)\\nMachine Learning\\nSQL\\nData Science\\nDeep Learning\\nDat...</td>\n    </tr>\n    <tr>\n      <th>1</th>\n      <td>Mastersworks</td>\n      <td>New York City Metropolitan Area</td>\n      <td>On-site</td>\n      <td>Full time</td>\n      <td>Mid-Senior</td>\n      <td>VP, Data Science</td>\n      <td>Identify and execute on predictive models to help internal teams at Masterworks unders...</td>\n      <td>23</td>\n      <td>40</td>\n      <td>28</td>\n      <td>9</td>\n      <td>SQL\\nArtificial Intelligence (AI)\\nJavaScript\\nEntrepreneurship\\nAgile Methodologies\\n...</td>\n    </tr>\n    <tr>\n      <th>2</th>\n      <td>ReviveMed</td>\n      <td>Cambridge, MA</td>\n      <td>Hybrid</td>\n      <td>Full time</td>\n      <td>Mid-Senior</td>\n      <td>Biological Data Science</td>\n      <td>Self-motivated, highly disciplined, and passionate about discovering the right therape...</td>\n      <td>10</td>\n      <td>55</td>\n      <td>31</td>\n      <td>4</td>\n      <td>SQL\\nJavaScript\\nMachine Learning\\nLeadership\\nPython (Programming Language)\\nProgramm...</td>\n    </tr>\n    <tr>\n      <th>3</th>\n      <td>IBM</td>\n      <td>Baton Rouge, LA</td>\n      <td>On-site</td>\n      <td>Full time</td>\n      <td>Entry</td>\n      <td>Data Engineer</td>\n      <td>2 years + experience with Python, Java, or other object-oriented programming languages...</td>\n      <td>0</td>\n      <td>100</td>\n      <td>0</td>\n      <td>0</td>\n      <td>SQL\\nGitHub\\nLeadership\\nOracle Database\\nGoogle Cloud Platform (GCP)\\nApache Phoenix\\...</td>\n    </tr>\n    <tr>\n      <th>4</th>\n      <td>Expedia Group</td>\n      <td>Austin, TX</td>\n      <td>Hybrid</td>\n      <td>Full time</td>\n      <td>Entry</td>\n      <td>Data Scientist II, Product Analytics</td>\n      <td>2+ years of work experience doing quantitative analysis to tackle business problems\\nS...</td>\n      <td>13</td>\n      <td>72</td>\n      <td>7</td>\n      <td>8</td>\n      <td>SQL\\nJavaScript\\nLeadership\\nMicrosoft SQL Server\\nCascading Style Sheets (CSS)\\nC#\\nO...</td>\n    </tr>\n    <tr>\n      <th>...</th>\n      <td>...</td>\n      <td>...</td>\n      <td>...</td>\n      <td>...</td>\n      <td>...</td>\n      <td>...</td>\n      <td>...</td>\n      <td>...</td>\n      <td>...</td>\n      <td>...</td>\n      <td>...</td>\n      <td>...</td>\n    </tr>\n    <tr>\n      <th>195</th>\n      <td>HD Supply</td>\n      <td>Atlanta, GA</td>\n      <td>On-site</td>\n      <td>Full time</td>\n      <td>Entry</td>\n      <td>Data Scientist</td>\n      <td>3 to 5 years of experience in applied data science in a retail marketing or operations...</td>\n      <td>38</td>\n      <td>44</td>\n      <td>9</td>\n      <td>9</td>\n      <td>SQL\\nPython (Programming Language)\\nMachine Learning\\nTableau\\nData Analysis\\nMATLAB\\n...</td>\n    </tr>\n    <tr>\n      <th>196</th>\n      <td>Optum</td>\n      <td>San Antonio, TX</td>\n      <td>On-site</td>\n      <td>Full time</td>\n      <td>Entry</td>\n      <td>Data Engineer</td>\n      <td>BS in Engineering, Computer Science, Data Science or Equivalent\\n2+ years of experienc...</td>\n      <td>50</td>\n      <td>50</td>\n      <td>0</td>\n      <td>0</td>\n      <td>SQL\\nGit\\nMicrosoft SQL Server\\nLinux System Administration\\nData Administration\\nData...</td>\n    </tr>\n    <tr>\n      <th>197</th>\n      <td>Grindr</td>\n      <td>Chicago, IL</td>\n      <td>Remote</td>\n      <td>Full time</td>\n      <td>Entry</td>\n      <td>Data Scientist</td>\n      <td>4+ years of proven experience in an analytics role\\nAbility to communicate the results...</td>\n      <td>23</td>\n      <td>62</td>\n      <td>9</td>\n      <td>6</td>\n      <td>Python (Programming Language)\\nSQL\\nMachine Learning\\nMicrosoft PowerPoint\\nLeadership...</td>\n    </tr>\n    <tr>\n      <th>198</th>\n      <td>1010data</td>\n      <td>United States</td>\n      <td>Remote</td>\n      <td>Full time</td>\n      <td>Entry</td>\n      <td>Data Scientist</td>\n      <td>3-7 years professional experience in data analysis or practical experience building cu...</td>\n      <td>33</td>\n      <td>67</td>\n      <td>0</td>\n      <td>0</td>\n      <td>Python (Programming Language)\\nMicrosoft Excel\\nSQL\\nMicrosoft PowerPoint\\nMachine Lea...</td>\n    </tr>\n    <tr>\n      <th>199</th>\n      <td>Adobe</td>\n      <td>Waltham, MA</td>\n      <td>On-site</td>\n      <td>Full time</td>\n      <td>Mid-Senior</td>\n      <td>Machine Learning Engineer</td>\n      <td>Develop and implement scalable and efficient models on large-scale datasets to address...</td>\n      <td>8</td>\n      <td>68</td>\n      <td>22</td>\n      <td>2</td>\n      <td>Machine Learning\\nData Science\\nSQL\\nMicrosoft Excel\\nHadoop\\nNatural Language Process...</td>\n    </tr>\n  </tbody>\n</table>\n<p>200 rows × 12 columns</p>\n</div>"
     },
     "execution_count": 5,
     "metadata": {},
     "output_type": "execute_result"
    }
   ],
   "source": [
    "df"
   ]
  },
  {
   "cell_type": "code",
   "execution_count": 6,
   "id": "a10ff0da",
   "metadata": {
<<<<<<< HEAD
    "pycharm": {
     "name": "#%%\n"
    },
    "scrolled": true
=======
    "scrolled": true,
    "pycharm": {
     "name": "#%%\n"
    }
>>>>>>> 916b37e2ae23e8b2d7dda966ebc16a2d87e2e594
   },
   "outputs": [
    {
     "data": {
      "text/plain": "company         0\nlocation        0\nmode            0\ntype            0\nlevel           0\nrole            0\nrequirements    0\nedu_bachelor    0\nedu_master      0\nedu_phd         0\nedu_other       0\nskills          0\ndtype: int64"
     },
     "execution_count": 6,
     "metadata": {},
     "output_type": "execute_result"
    }
   ],
   "source": [
    "df.isnull().sum()"
   ]
  },
  {
   "cell_type": "markdown",
   "id": "625eb78a",
   "metadata": {
    "pycharm": {
     "name": "#%% md\n"
    }
   },
   "source": [
    "### Convert text to all lower case"
   ]
  },
  {
   "cell_type": "code",
   "execution_count": 7,
   "id": "aa01303a",
   "metadata": {
    "pycharm": {
     "name": "#%%\n"
    }
   },
   "outputs": [],
   "source": [
    "df.requirements = df.requirements.str.lower()"
   ]
  },
  {
   "cell_type": "code",
<<<<<<< HEAD
   "execution_count": 13,
   "id": "f88c7733",
   "metadata": {
    "pycharm": {
     "name": "#%%\n"
    }
   },
=======
   "execution_count": 9,
>>>>>>> 916b37e2ae23e8b2d7dda966ebc16a2d87e2e594
   "outputs": [
    {
     "data": {
      "text/plain": "0      bachelor degree\\nminimum years of experience: 4 year(s)\\ndemonstrates thorough abiliti...\n1      identify and execute on predictive models to help internal teams at masterworks unders...\n2      self-motivated, highly disciplined, and passionate about discovering the right therape...\n3      2 years + experience with python, java, or other object-oriented programming languages...\n4      2+ years of work experience doing quantitative analysis to tackle business problems\\ns...\n                                                 ...                                            \n195    3 to 5 years of experience in applied data science in a retail marketing or operations...\n196    bs in engineering, computer science, data science or equivalent\\n2+ years of experienc...\n197    4+ years of proven experience in an analytics role\\nability to communicate the results...\n198    3-7 years professional experience in data analysis or practical experience building cu...\n199    develop and implement scalable and efficient models on large-scale datasets to address...\nName: requirements, Length: 200, dtype: object"
     },
<<<<<<< HEAD
     "execution_count": 13,
=======
     "execution_count": 9,
>>>>>>> 916b37e2ae23e8b2d7dda966ebc16a2d87e2e594
     "metadata": {},
     "output_type": "execute_result"
    }
   ],
   "source": [
    "df.requirements"
<<<<<<< HEAD
   ]
  },
  {
   "cell_type": "markdown",
   "id": "2ce50089",
   "metadata": {
    "pycharm": {
     "name": "#%% md\n"
    }
   },
   "source": [
    "### Removing accented characters"
   ]
  },
  {
   "cell_type": "code",
   "execution_count": 9,
   "id": "ee26d492",
   "metadata": {
    "pycharm": {
     "name": "#%%\n"
    }
   },
=======
   ],
   "metadata": {
    "collapsed": false,
    "pycharm": {
     "name": "#%%\n"
    }
   }
  },
  {
   "cell_type": "markdown",
   "source": [
    "### Removing accented characters"
   ],
   "metadata": {
    "collapsed": false,
    "pycharm": {
     "name": "#%% md\n"
    }
   }
  },
  {
   "cell_type": "code",
   "execution_count": 20,
>>>>>>> 916b37e2ae23e8b2d7dda966ebc16a2d87e2e594
   "outputs": [],
   "source": [
    "def basic_clean(string):\n",
    "    '''\n",
    "    This function takes in a string and\n",
    "    returns the string normalized.\n",
    "    '''\n",
    "    string = unicodedata.normalize('NFKD', string)\\\n",
    "             .encode('ascii', 'ignore')\\\n",
    "             .decode('utf-8', 'ignore')\n",
    "    # Removing white space\n",
    "    string = re.sub(r'\\s+', ' ',   string)\n",
    "    # Removing anything that is not a-z, 0-9, a single quote, or whitespace\n",
    "    string = re.sub(r\"[^a-z0-9+'\\s]\", '', string)\n",
    "    return string"
<<<<<<< HEAD
   ]
  },
  {
   "cell_type": "code",
   "execution_count": 14,
   "id": "05ad49df",
   "metadata": {
    "pycharm": {
     "name": "#%%\n"
    }
   },
   "outputs": [],
   "source": [
    "df.requirements = df.requirements.apply(basic_clean)"
   ]
  },
  {
   "cell_type": "code",
   "execution_count": 15,
   "outputs": [
    {
     "data": {
      "text/plain": "0      bachelor degree minimum years of experience 4 years demonstrates thorough abilities an...\n1      identify and execute on predictive models to help internal teams at masterworks unders...\n2      selfmotivated highly disciplined and passionate about discovering the right therapeuti...\n3      2 years + experience with python java or other objectoriented programming languages ha...\n4      2+ years of work experience doing quantitative analysis to tackle business problems st...\n                                                 ...                                            \n195    3 to 5 years of experience in applied data science in a retail marketing or operations...\n196    bs in engineering computer science data science or equivalent 2+ years of experience i...\n197    4+ years of proven experience in an analytics role ability to communicate the results ...\n198    37 years professional experience in data analysis or practical experience building cus...\n199    develop and implement scalable and efficient models on largescale datasets to address ...\nName: requirements, Length: 200, dtype: object"
     },
     "execution_count": 15,
     "metadata": {},
     "output_type": "execute_result"
    }
   ],
   "source": [
    "df.requirements"
=======
>>>>>>> 916b37e2ae23e8b2d7dda966ebc16a2d87e2e594
   ],
   "metadata": {
    "collapsed": false,
    "pycharm": {
     "name": "#%%\n"
    }
   }
  },
  {
   "cell_type": "markdown",
<<<<<<< HEAD
   "id": "e45c3b60",
   "metadata": {
    "pycharm": {
     "name": "#%% md\n"
    }
   },
   "source": [
    "### Tokenization"
   ]
  },
  {
   "cell_type": "code",
   "execution_count": 11,
   "id": "4e679741",
   "metadata": {
    "pycharm": {
     "name": "#%%\n"
    }
   },
   "outputs": [],
   "source": [
    "def tokenize(string):\n",
    "    '''\n",
    "    This function takes in a string and\n",
    "    returns a tokenized string.\n",
    "    '''\n",
    "    # Create tokenizer.\n",
    "    tokenizer = nltk.tokenize.ToktokTokenizer()\n",
    "\n",
    "    # Use tokenizer\n",
    "    string = tokenizer.tokenize(string, return_str = True)\n",
    "\n",
    "    return string"
   ]
  },
  {
   "cell_type": "code",
   "execution_count": 12,
   "outputs": [
    {
     "data": {
      "text/plain": "0      bachelor degree\\nminimum years of experience : 4 year( s ) \\ndemonstrates thorough abi...\n1      identify and execute on predictive models to help internal teams at masterworks unders...\n2      self-motivated , highly disciplined , and passionate about discovering the right thera...\n3      2 years + experience with python , java , or other object-oriented programming languag...\n4      2+ years of work experience doing quantitative analysis to tackle business problems\\ns...\n                                                 ...                                            \n195    3 to 5 years of experience in applied data science in a retail marketing or operations...\n196    bs in engineering , computer science , data science or equivalent\\n2+ years of experie...\n197    4+ years of proven experience in an analytics role\\nability to communicate the results...\n198    3-7 years professional experience in data analysis or practical experience building cu...\n199    develop and implement scalable and efficient models on large-scale datasets to address...\nName: requirements, Length: 200, dtype: object"
     },
     "execution_count": 12,
=======
   "source": [],
   "metadata": {
    "collapsed": false,
    "pycharm": {
     "name": "#%% md\n"
    }
   }
  },
  {
   "cell_type": "markdown",
   "source": [],
   "metadata": {
    "collapsed": false,
    "pycharm": {
     "name": "#%% md\n"
    }
   }
  },
  {
   "cell_type": "code",
   "execution_count": 21,
   "outputs": [
    {
     "data": {
      "text/plain": "0      bachelor degree minimum years of experience 4 years demonstrates thorough abilities an...\n1      identify and execute on predictive models to help internal teams at masterworks unders...\n2      selfmotivated highly disciplined and passionate about discovering the right therapeuti...\n3      2 years  experience with python java or other objectoriented programming languages han...\n4      2 years of work experience doing quantitative analysis to tackle business problems str...\n                                                 ...                                            \n195    3 to 5 years of experience in applied data science in a retail marketing or operations...\n196    bs in engineering computer science data science or equivalent 2 years of experience in...\n197    4 years of proven experience in an analytics role ability to communicate the results o...\n198    37 years professional experience in data analysis or practical experience building cus...\n199    develop and implement scalable and efficient models on largescale datasets to address ...\nName: requirements, Length: 200, dtype: object"
     },
     "execution_count": 21,
>>>>>>> 916b37e2ae23e8b2d7dda966ebc16a2d87e2e594
     "metadata": {},
     "output_type": "execute_result"
    }
   ],
   "source": [
<<<<<<< HEAD
    "df.requirements.apply(tokenize)"
=======
    "df.requirements.apply(basic_clean)"
>>>>>>> 916b37e2ae23e8b2d7dda966ebc16a2d87e2e594
   ],
   "metadata": {
    "collapsed": false,
    "pycharm": {
     "name": "#%%\n"
    }
   }
  },
  {
<<<<<<< HEAD
=======
   "cell_type": "markdown",
   "source": [
    "### Tokenization"
   ],
   "metadata": {
    "collapsed": false,
    "pycharm": {
     "name": "#%% md\n"
    }
   }
  },
  {
>>>>>>> 916b37e2ae23e8b2d7dda966ebc16a2d87e2e594
   "cell_type": "code",
   "execution_count": null,
   "outputs": [],
   "source": [],
   "metadata": {
    "collapsed": false,
    "pycharm": {
     "name": "#%%\n"
    }
   }
  }
 ],
 "metadata": {
  "kernelspec": {
   "display_name": "Python 3 (ipykernel)",
   "language": "python",
   "name": "python3"
  },
  "language_info": {
   "codemirror_mode": {
    "name": "ipython",
    "version": 3
   },
   "file_extension": ".py",
   "mimetype": "text/x-python",
   "name": "python",
   "nbconvert_exporter": "python",
   "pygments_lexer": "ipython3",
   "version": "3.9.12"
  }
 },
 "nbformat": 4,
 "nbformat_minor": 5
<<<<<<< HEAD
}
=======
}
>>>>>>> 916b37e2ae23e8b2d7dda966ebc16a2d87e2e594
